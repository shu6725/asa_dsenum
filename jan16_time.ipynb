{
 "cells": [
  {
   "cell_type": "code",
   "execution_count": 42,
   "metadata": {},
   "outputs": [],
   "source": [
    "from asa_dsenum import generate_HNF, generate_superlattice, permutation\n",
    "import numpy as np\n",
    "import spglib\n",
    "from copy import deepcopy\n",
    "import time\n",
    "rutile = ([(4, 0, 0),(0, 4, 0),(0, 0, 3)],\n",
    "\n",
    "          [(0, 0, 0),(0.5, 0.5, 0.5),(0.3, 0.3, 0.0),(0.7, 0.7, 0.0),(0.2, 0.8, 0.5),(0.8, 0.2, 0.5)],\n",
    "\n",
    "          [14, 14, 8, 8, 8, 8])\n",
    "o_sublattice = ([(4, 0, 0),(0, 4, 0),(0, 0, 3)],\n",
    "\n",
    "                [(0.3, 0.3, 0.0),(0.7, 0.7, 0.0),(0.2, 0.8, 0.5),(0.8, 0.2, 0.5)],\n",
    "\n",
    "                [8, 8, 8, 8])\n",
    "parent_sym = spglib.get_symmetry(rutile)\n",
    "HNF_list = generate_HNF.generate_all_superlattices(3)\n",
    "reduced_HNF = generate_HNF.reduce_HNF_list_by_parent_lattice_symmetry(HNF_list, parent_sym[\"rotations\"])"
   ]
  },
  {
   "cell_type": "code",
   "execution_count": 43,
   "metadata": {},
   "outputs": [],
   "source": [
    "def unique(parent_sym_jun, omomi4):\n",
    "    \"\"\"\n",
    "    得られた究極の対称操作の辞書に基づいて、配列をユニークしていく\n",
    "\n",
    "    parameters\n",
    "\n",
    "    parent_sym_jun\n",
    "\n",
    "    omomi4 は各空孔数ごとのcandidate集合\n",
    "\n",
    "    retruns\n",
    "\n",
    "    \"\"\"\n",
    "    omomi4_neo = deepcopy(omomi4)#copy wo sakusei\n",
    "    lis = set()\n",
    "\n",
    "    for i in range(len(omomi4)):#through all candidate\n",
    "        if omomi4[i] in omomi4_neo:#kouho ga mada 生き残ってるかチェック\n",
    "            \n",
    "            for j in range(1, len(parent_sym_jun)):#置換操作について回す　\n",
    "                d = dict()\n",
    "                sta = \"\"\n",
    "                for k in range(len(parent_sym_jun[0])):\n",
    "                    d[parent_sym_jun[j][k]] = omomi4[i][k]#str辞書の作成\n",
    "                for r  in range(len(parent_sym_jun[0])):#staの作成 sta is made from tikan[j]\n",
    "                    sta += d[r]\n",
    "                if int(sta) is not int(omomi4[i]):\n",
    "                    if sta in omomi4_neo:\n",
    "                        omomi4_neo.remove(sta)\n",
    "                        lis.add(omomi4[i])\n",
    "    lis = list(lis)\n",
    "    return lis"
   ]
  },
  {
   "cell_type": "code",
   "execution_count": 44,
   "metadata": {},
   "outputs": [],
   "source": [
    "def superperiodic_unique(trans_tikans, omomi4):\n",
    "    omomi4_neo = deepcopy(omomi4)\n",
    "    lis = set()\n",
    "    \n",
    "    for candidate in range(len(omomi4)):\n",
    "        if omomi4[candidate] in omomi4_neo: #ある元の構造が生き残ってるかチェック\n",
    "            id_superperiodic = False\n",
    "            \n",
    "            for permutation in range(1, len(trans_tikans)):#恒等操作以外の並進操作について回す\n",
    "                d = dict()\n",
    "                sta = \"\"\n",
    "                for k in range(len(trans_tikans[0])):\n",
    "                    d[trans_tikans[permutation][k]] = omomi4[candidate][k]\n",
    "                for r in range(len(trans_tikans[0])):\n",
    "                    sta += d[r]    # 置換によって生成した配列\n",
    "                if int(sta) == int(omomi4[candidate]):# 作った配列と元の配列が一致、すなわちsuper_periodicやったら\n",
    "                    id_superperiodic = True\n",
    "                else:#操作によって元とは別の配列になったかどうか\n",
    "                    if sta in omomi4_neo:#まだ省いていない構造やったら\n",
    "                        omomi4_neo.remove(sta)\n",
    "                        \n",
    "            if not id_superperiodic:\n",
    "                lis.add(omomi4[candidate])\n",
    "                    \n",
    "    lis = list(lis)\n",
    "    return lis\n",
    "                    \n",
    "                    \n",
    "                    \n",
    "                    "
   ]
  },
  {
   "cell_type": "code",
   "execution_count": 24,
   "metadata": {},
   "outputs": [],
   "source": [
    "# 処理前の時刻\n",
    "t1 = time.time() \n",
    "index = 2\n",
    "hoge = 0\n",
    "\n",
    "HNF_list = generate_HNF.generate_all_superlattices(index)\n",
    "reduced_HNF = generate_HNF.reduce_HNF_list_by_parent_lattice_symmetry(HNF_list, parent_sym[\"rotations\"])\n",
    "\n",
    "parent_lattice =  generate_superlattice.get_superlattice(rutile, reduced_HNF[hoge], index)\n",
    "o_sublattice = generate_superlattice.get_o_superlattice(rutile, reduced_HNF[hoge], index)\n",
    "set_of_translations = permutation.gene_trans(reduced_HNF[hoge])\n",
    "dic_zahyou = dict()\n",
    "for i in range(len(o_sublattice[1])):\n",
    "    dic_zahyou[i] = o_sublattice[1][i]\n",
    "set_of_transtikans = permutation.get_trans_perms(dic_zahyou, set_of_translations)\n",
    "\n",
    "goalen = permutation.shin_get_permutation(o_sublattice, parent_sym, reduced_HNF[hoge])\n",
    "omomi4 = permutation.make_candidate(o_sublattice,2) \n",
    "ru = superperiodic_unique(set_of_transtikans, omomi4)\n",
    "asa = unique(goalen, ru)\n",
    "\n"
   ]
  },
  {
   "cell_type": "code",
   "execution_count": 25,
   "metadata": {},
   "outputs": [
    {
     "data": {
      "text/plain": [
       "['00100100', '00010010', '00001100']"
      ]
     },
     "execution_count": 25,
     "metadata": {},
     "output_type": "execute_result"
    }
   ],
   "source": [
    "asa"
   ]
  },
  {
   "cell_type": "code",
   "execution_count": 37,
   "metadata": {},
   "outputs": [
    {
     "data": {
      "text/plain": [
       "427"
      ]
     },
     "execution_count": 37,
     "metadata": {},
     "output_type": "execute_result"
    }
   ],
   "source": [
    "index = 3\n",
    "hoge = 4\n",
    "ds_list = list()\n",
    "\n",
    "HNF_list = generate_HNF.generate_all_superlattices(index)\n",
    "reduced_HNF = generate_HNF.reduce_HNF_list_by_parent_lattice_symmetry(HNF_list, parent_sym[\"rotations\"])\n",
    "\n",
    "parent_lattice =  generate_superlattice.get_superlattice(rutile, reduced_HNF[hoge], index)\n",
    "o_sublattice = generate_superlattice.get_o_superlattice(rutile, reduced_HNF[hoge], index)\n",
    "set_of_translations = permutation.gene_trans(reduced_HNF[hoge])\n",
    "dic_zahyou = dict()\n",
    "for i in range(len(o_sublattice[1])):\n",
    "    dic_zahyou[i] = o_sublattice[1][i]\n",
    "set_of_transtikans = permutation.get_trans_perms(dic_zahyou, set_of_translations)\n",
    "\n",
    "goalen = permutation.shin_get_permutation(o_sublattice, parent_sym, reduced_HNF[hoge])\n",
    "for fuga in range(1,4*index):\n",
    "    omomi4 = permutation.make_candidate(o_sublattice,fuga) \n",
    "    asa = unique(goalen, omomi4)\n",
    "    ru = superperiodic_unique(set_of_transtikans, asa)\n",
    "    ds_list.extend(ru)\n",
    "len(ds_list)\n"
   ]
  },
  {
   "cell_type": "code",
   "execution_count": 41,
   "metadata": {},
   "outputs": [
    {
     "name": "stdout",
     "output_type": "stream",
     "text": [
      "12.3 s ± 586 ms per loop (mean ± std. dev. of 7 runs, 1 loop each)\n"
     ]
    }
   ],
   "source": [
    "\n",
    "index = 4\n",
    "hoge = 0\n",
    "ds_list = list()\n",
    "\n",
    "HNF_list = generate_HNF.generate_all_superlattices(index)\n",
    "reduced_HNF = generate_HNF.reduce_HNF_list_by_parent_lattice_symmetry(HNF_list, parent_sym[\"rotations\"])\n",
    "\n",
    "parent_lattice =  generate_superlattice.get_superlattice(rutile, reduced_HNF[hoge], index)\n",
    "o_sublattice = generate_superlattice.get_o_superlattice(rutile, reduced_HNF[hoge], index)\n",
    "set_of_translations = permutation.gene_trans(reduced_HNF[hoge])\n",
    "dic_zahyou = dict()\n",
    "for i in range(len(o_sublattice[1])):\n",
    "    dic_zahyou[i] = o_sublattice[1][i]\n",
    "set_of_transtikans = permutation.get_trans_perms(dic_zahyou, set_of_translations)\n",
    "\n",
    "goalen = permutation.shin_get_permutation(o_sublattice, parent_sym, reduced_HNF[hoge])\n",
    "for fuga in range(1,4*index):\n",
    "    omomi4 = permutation.make_candidate(o_sublattice,fuga) \n",
    "    asa = unique(goalen, omomi4)\n",
    "    ru = superperiodic_unique(set_of_transtikans, asa)\n",
    "    ds_list.extend(ru)\n",
    "len(ds_list)"
   ]
  },
  {
   "cell_type": "markdown",
   "metadata": {},
   "source": [
    "index2の測定結果"
   ]
  },
  {
   "cell_type": "code",
   "execution_count": 53,
   "metadata": {},
   "outputs": [
    {
     "name": "stdout",
     "output_type": "stream",
     "text": [
      "0 22\n",
      "1 27\n",
      "2 22\n",
      "3 36\n",
      "4 25\n",
      "132 かかった時間は 0.16773223876953125 秒\n"
     ]
    }
   ],
   "source": [
    "# 処理前の時刻\n",
    "t1 = time.time() \n",
    "\n",
    "index = 2\n",
    "number = 0\n",
    "for hoge in range(0, 5):\n",
    "    ds_list = list()\n",
    "\n",
    "    HNF_list = generate_HNF.generate_all_superlattices(index)\n",
    "    reduced_HNF = generate_HNF.reduce_HNF_list_by_parent_lattice_symmetry(HNF_list, parent_sym[\"rotations\"])\n",
    "\n",
    "    parent_lattice =  generate_superlattice.get_superlattice(rutile, reduced_HNF[hoge], index)\n",
    "    o_sublattice = generate_superlattice.get_o_superlattice(rutile, reduced_HNF[hoge], index)\n",
    "    set_of_translations = permutation.gene_trans(reduced_HNF[hoge])\n",
    "    dic_zahyou = dict()\n",
    "    for i in range(len(o_sublattice[1])):\n",
    "        dic_zahyou[i] = o_sublattice[1][i]\n",
    "    set_of_transtikans = permutation.get_trans_perms(dic_zahyou, set_of_translations)\n",
    "\n",
    "    goalen = permutation.shin_get_permutation(o_sublattice, parent_sym, reduced_HNF[hoge])\n",
    "    for fuga in range(1,4*index):\n",
    "        omomi4 = permutation.make_candidate(o_sublattice,fuga) \n",
    "        asa = unique(goalen, omomi4)\n",
    "        ru = superperiodic_unique(set_of_transtikans, asa)\n",
    "        ds_list.extend(ru)\n",
    "    print(hoge, len(ds_list))\n",
    "    number += len(ds_list)\n",
    "\n",
    "# 処理後の時刻\n",
    "t2 = time.time()\n",
    "\n",
    "# 経過時間を表示\n",
    "elapsed_time = t2-t1\n",
    "print(number, \"かかった時間は\", elapsed_time,\"秒\")"
   ]
  },
  {
   "cell_type": "markdown",
   "metadata": {},
   "source": [
    "index3について計測"
   ]
  },
  {
   "cell_type": "code",
   "execution_count": 54,
   "metadata": {},
   "outputs": [
    {
     "name": "stdout",
     "output_type": "stream",
     "text": [
      "0 152\n",
      "1 375\n",
      "2 427\n",
      "3 375\n",
      "4 427\n",
      "1756 かかった時間は 1.8240771293640137 秒\n"
     ]
    }
   ],
   "source": [
    "# 処理前の時刻\n",
    "t1 = time.time() \n",
    "\n",
    "index = 3\n",
    "number = 0\n",
    "for hoge in range(0, 5):\n",
    "    ds_list = list()\n",
    "\n",
    "    HNF_list = generate_HNF.generate_all_superlattices(index)\n",
    "    reduced_HNF = generate_HNF.reduce_HNF_list_by_parent_lattice_symmetry(HNF_list, parent_sym[\"rotations\"])\n",
    "\n",
    "    parent_lattice =  generate_superlattice.get_superlattice(rutile, reduced_HNF[hoge], index)\n",
    "    o_sublattice = generate_superlattice.get_o_superlattice(rutile, reduced_HNF[hoge], index)\n",
    "    set_of_translations = permutation.gene_trans(reduced_HNF[hoge])\n",
    "    dic_zahyou = dict()\n",
    "    for i in range(len(o_sublattice[1])):\n",
    "        dic_zahyou[i] = o_sublattice[1][i]\n",
    "    set_of_transtikans = permutation.get_trans_perms(dic_zahyou, set_of_translations)\n",
    "\n",
    "    goalen = permutation.shin_get_permutation(o_sublattice, parent_sym, reduced_HNF[hoge])\n",
    "    for fuga in range(1,4*index):\n",
    "        omomi4 = permutation.make_candidate(o_sublattice,fuga) \n",
    "        asa = unique(goalen, omomi4)\n",
    "        ru = superperiodic_unique(set_of_transtikans, asa)\n",
    "        ds_list.extend(ru)\n",
    "    print(hoge, len(ds_list))\n",
    "    number += len(ds_list)\n",
    "\n",
    "# 処理後の時刻\n",
    "t2 = time.time()\n",
    "\n",
    "# 経過時間を表示\n",
    "elapsed_time = t2-t1\n",
    "print(number, \"かかった時間は\", elapsed_time,\"秒\")"
   ]
  },
  {
   "cell_type": "markdown",
   "metadata": {},
   "source": [
    "index4について測定"
   ]
  },
  {
   "cell_type": "code",
   "execution_count": 55,
   "metadata": {},
   "outputs": [
    {
     "name": "stdout",
     "output_type": "stream",
     "text": [
      "0 1341\n",
      "1 4230\n",
      "2 2235\n",
      "3 4554\n",
      "4 4170\n",
      "5 1311\n",
      "6 2349\n",
      "7 2370\n",
      "8 2349\n",
      "9 2370\n",
      "10 1441\n",
      "11 2754\n",
      "12 1284\n",
      "13 4200\n",
      "14 4554\n",
      "15 4140\n",
      "16 2175\n",
      "47827 かかった時間は 209.0836887359619 秒\n"
     ]
    }
   ],
   "source": [
    "# 処理前の時刻\n",
    "t1 = time.time() \n",
    "\n",
    "index = 4\n",
    "number = 0\n",
    "for hoge in range(0, 17):\n",
    "    ds_list = list()\n",
    "\n",
    "    HNF_list = generate_HNF.generate_all_superlattices(index)\n",
    "    reduced_HNF = generate_HNF.reduce_HNF_list_by_parent_lattice_symmetry(HNF_list, parent_sym[\"rotations\"])\n",
    "\n",
    "    parent_lattice =  generate_superlattice.get_superlattice(rutile, reduced_HNF[hoge], index)\n",
    "    o_sublattice = generate_superlattice.get_o_superlattice(rutile, reduced_HNF[hoge], index)\n",
    "    set_of_translations = permutation.gene_trans(reduced_HNF[hoge])\n",
    "    dic_zahyou = dict()\n",
    "    for i in range(len(o_sublattice[1])):\n",
    "        dic_zahyou[i] = o_sublattice[1][i]\n",
    "    set_of_transtikans = permutation.get_trans_perms(dic_zahyou, set_of_translations)\n",
    "\n",
    "    goalen = permutation.shin_get_permutation(o_sublattice, parent_sym, reduced_HNF[hoge])\n",
    "    for fuga in range(1,4*index):\n",
    "        omomi4 = permutation.make_candidate(o_sublattice,fuga) \n",
    "        asa = unique(goalen, omomi4)\n",
    "        ru = superperiodic_unique(set_of_transtikans, asa)\n",
    "        ds_list.extend(ru)\n",
    "    print(hoge, len(ds_list))\n",
    "    number += len(ds_list)\n",
    "\n",
    "# 処理後の時刻\n",
    "t2 = time.time()\n",
    "\n",
    "# 経過時間を表示\n",
    "elapsed_time = t2-t1\n",
    "print(number, \"かかった時間は\", elapsed_time,\"秒\")"
   ]
  },
  {
   "cell_type": "code",
   "execution_count": 39,
   "metadata": {},
   "outputs": [
    {
     "name": "stdout",
     "output_type": "stream",
     "text": [
      "0 1341\n",
      "1 4230\n",
      "2 2235\n",
      "3 4554\n",
      "4 4170\n",
      "5 1311\n",
      "6 2349\n",
      "7 2370\n",
      "8 2349\n",
      "9 2370\n",
      "10 1441\n",
      "11 2754\n",
      "12 1284\n",
      "13 4200\n",
      "14 4554\n",
      "15 4140\n",
      "16 2175\n"
     ]
    }
   ],
   "source": [
    "index = 4\n",
    "number = 0\n",
    "for hoge in range(0, 17):\n",
    "    ds_list = list()\n",
    "\n",
    "    HNF_list = generate_HNF.generate_all_superlattices(index)\n",
    "    reduced_HNF = generate_HNF.reduce_HNF_list_by_parent_lattice_symmetry(HNF_list, parent_sym[\"rotations\"])\n",
    "\n",
    "    parent_lattice =  generate_superlattice.get_superlattice(rutile, reduced_HNF[hoge], index)\n",
    "    o_sublattice = generate_superlattice.get_o_superlattice(rutile, reduced_HNF[hoge], index)\n",
    "    set_of_translations = permutation.gene_trans(reduced_HNF[hoge])\n",
    "    dic_zahyou = dict()\n",
    "    for i in range(len(o_sublattice[1])):\n",
    "        dic_zahyou[i] = o_sublattice[1][i]\n",
    "    set_of_transtikans = permutation.get_trans_perms(dic_zahyou, set_of_translations)\n",
    "\n",
    "    goalen = permutation.shin_get_permutation(o_sublattice, parent_sym, reduced_HNF[hoge])\n",
    "    for fuga in range(1,4*index):\n",
    "        omomi4 = permutation.make_candidate(o_sublattice,fuga) \n",
    "        asa = unique(goalen, omomi4)\n",
    "        ru = superperiodic_unique(set_of_transtikans, asa)\n",
    "        ds_list.extend(ru)\n",
    "    print(hoge, len(ds_list))\n",
    "    number += len(ds_list)"
   ]
  },
  {
   "cell_type": "code",
   "execution_count": 40,
   "metadata": {},
   "outputs": [
    {
     "data": {
      "text/plain": [
       "47827"
      ]
     },
     "execution_count": 40,
     "metadata": {},
     "output_type": "execute_result"
    }
   ],
   "source": [
    "number"
   ]
  },
  {
   "cell_type": "code",
   "execution_count": null,
   "metadata": {},
   "outputs": [],
   "source": []
  }
 ],
 "metadata": {
  "kernelspec": {
   "display_name": "Python 3",
   "language": "python",
   "name": "python3"
  },
  "language_info": {
   "codemirror_mode": {
    "name": "ipython",
    "version": 3
   },
   "file_extension": ".py",
   "mimetype": "text/x-python",
   "name": "python",
   "nbconvert_exporter": "python",
   "pygments_lexer": "ipython3",
   "version": "3.5.6"
  }
 },
 "nbformat": 4,
 "nbformat_minor": 4
}
