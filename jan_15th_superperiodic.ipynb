{
 "cells": [
  {
   "cell_type": "code",
   "execution_count": 47,
   "metadata": {},
   "outputs": [],
   "source": [
    "from asa_dsenum import generate_HNF, generate_superlattice, permutation\n",
    "import numpy as np\n",
    "import spglib\n",
    "from copy import deepcopy\n",
    "\n",
    "rutile = ([(4, 0, 0),(0, 4, 0),(0, 0, 3)],\n",
    "\n",
    "          [(0, 0, 0),(0.5, 0.5, 0.5),(0.3, 0.3, 0.0),(0.7, 0.7, 0.0),(0.2, 0.8, 0.5),(0.8, 0.2, 0.5)],\n",
    "\n",
    "          [14, 14, 8, 8, 8, 8])\n",
    "o_sublattice = ([(4, 0, 0),(0, 4, 0),(0, 0, 3)],\n",
    "\n",
    "                [(0.3, 0.3, 0.0),(0.7, 0.7, 0.0),(0.2, 0.8, 0.5),(0.8, 0.2, 0.5)],\n",
    "\n",
    "                [8, 8, 8, 8])\n",
    "parent_sym = spglib.get_symmetry(rutile)\n",
    "HNF_list = generate_HNF.generate_all_superlattices(3)\n",
    "reduced_HNF = generate_HNF.reduce_HNF_list_by_parent_lattice_symmetry(HNF_list, parent_sym[\"rotations\"])"
   ]
  },
  {
   "cell_type": "markdown",
   "metadata": {},
   "source": [
    "unique する前にsuperperiodic を省いてしまう方法をまずは試してみよう"
   ]
  },
  {
   "cell_type": "code",
   "execution_count": 22,
   "metadata": {},
   "outputs": [],
   "source": [
    "def unique(parent_sym_jun, omomi4):\n",
    "    \"\"\"\n",
    "    得られた究極の対称操作の辞書に基づいて、配列をユニークしていく\n",
    "\n",
    "    parameters\n",
    "\n",
    "    parent_sym_jun\n",
    "\n",
    "    omomi4 は各空孔数ごとのcandidate集合\n",
    "\n",
    "    retruns\n",
    "\n",
    "    \"\"\"\n",
    "    omomi4_neo = deepcopy(omomi4)#copy wo sakusei\n",
    "    lis = set()\n",
    "\n",
    "    for i in range(len(omomi4)):#through all candidate\n",
    "        if omomi4[i] in omomi4_neo:#kouho ga mada 生き残ってるかチェック\n",
    "            \n",
    "            for j in range(1, len(parent_sym_jun)):#置換操作について回す　\n",
    "                d = dict()\n",
    "                sta = \"\"\n",
    "                for k in range(len(parent_sym_jun[0])):\n",
    "                    d[parent_sym_jun[j][k]] = omomi4[i][k]#str辞書の作成\n",
    "                for r  in range(len(parent_sym_jun[0])):#staの作成 sta is made from tikan[j]\n",
    "                    sta += d[r]\n",
    "                if int(sta) is not int(omomi4[i]):\n",
    "                    if sta in omomi4_neo:\n",
    "                        omomi4_neo.remove(sta)\n",
    "                        lis.add(omomi4[i])\n",
    "    return lis"
   ]
  },
  {
   "cell_type": "code",
   "execution_count": 25,
   "metadata": {},
   "outputs": [],
   "source": [
    "def superperiodic_unique(trans_tikans, omomi4):\n",
    "    omomi4_neo = deepcopy(omomi4)\n",
    "    lis = set()\n",
    "    \n",
    "    for candidate in range(len(omomi4)):\n",
    "        if omomi4[candidate] in omomi4_neo: #ある元の構造が生き残ってるかチェック\n",
    "            id_superperiodic = False\n",
    "            \n",
    "            for permutation in range(1, len(trans_tikans)):#恒等操作以外の並進操作について回す\n",
    "                d = dict()\n",
    "                sta = \"\"\n",
    "                for k in range(len(trans_tikans[0])):\n",
    "                    d[trans_tikans[permutation][k]] = omomi4[candidate][k]\n",
    "                for r in range(len(trans_tikans[0])):\n",
    "                    sta += d[r]    # 置換によって生成した配列\n",
    "                if int(sta) is not int(omomi4[i]):# 操作によって元とは別の配列になったかどうか\n",
    "                    if sta in omomi4_neo:#まだ省いていない構造やったら\n",
    "                        omomi4_neo.remove(sta)\n",
    "                else:#作った配列と元の配列が一致、すなわちsuper_periodicやったら\n",
    "                    id_superperiodic = True\n",
    "            if  not id_superperiodic:\n",
    "                    lis.add(omomi4[candidate])\n",
    "                    \n",
    "    lis = list(lis)\n",
    "    return lis\n",
    "                    \n",
    "                    \n",
    "                    \n",
    "                    "
   ]
  },
  {
   "cell_type": "code",
   "execution_count": 117,
   "metadata": {},
   "outputs": [
    {
     "name": "stdout",
     "output_type": "stream",
     "text": [
      "00010001\n",
      "00100010\n",
      "01000100\n",
      "10001000\n"
     ]
    },
    {
     "data": {
      "text/plain": [
       "['00010010',\n",
       " '00000011',\n",
       " '00001010',\n",
       " '00001001',\n",
       " '00011000',\n",
       " '00100100',\n",
       " '01001000',\n",
       " '00000110',\n",
       " '00001100',\n",
       " '00000101',\n",
       " '00101000',\n",
       " '00010100']"
      ]
     },
     "execution_count": 117,
     "metadata": {},
     "output_type": "execute_result"
    }
   ],
   "source": [
    "index = 2\n",
    "hoge = 0\n",
    "\n",
    "HNF_list = generate_HNF.generate_all_superlattices(index)\n",
    "reduced_HNF = generate_HNF.reduce_HNF_list_by_parent_lattice_symmetry(HNF_list, parent_sym[\"rotations\"])\n",
    "\n",
    "parent_lattice =  generate_superlattice.get_superlattice(rutile, reduced_HNF[hoge], index)\n",
    "o_sublattice = generate_superlattice.get_o_superlattice(rutile, reduced_HNF[hoge], index)\n",
    "set_of_translations = permutation.gene_trans(reduced_HNF[hoge])\n",
    "dic_zahyou = dict()\n",
    "for i in range(len(o_sublattice[1])):\n",
    "    dic_zahyou[i] = o_sublattice[1][i]\n",
    "set_of_transtikans = permutation.get_trans_perms(dic_zahyou, set_of_translations)\n",
    "\n",
    "goalen = permutation.shin_get_permutation(o_sublattice, parent_sym, reduced_HNF[hoge])\n",
    "omomi4 = permutation.make_candidate(o_sublattice,2) \n",
    "ru = superperiodic_unique(set_of_transtikans, omomi4)\n",
    "asa = unique(goalen, omomi4)\n",
    "ru"
   ]
  },
  {
   "cell_type": "markdown",
   "metadata": {},
   "source": [
    "\"00100010\"っていうsuperperiodicな配列が残ってる\n",
    "ある配列が与えられたset_of_transtikansの下でsuperperiodicでないかを調べる関数がほしい"
   ]
  },
  {
   "cell_type": "code",
   "execution_count": 118,
   "metadata": {},
   "outputs": [],
   "source": [
    "def superperiodic_unique(trans_tikans, omomi4):\n",
    "    omomi4_neo = deepcopy(omomi4)\n",
    "    lis = set()\n",
    "    \n",
    "    for candidate in range(len(omomi4)):\n",
    "        if omomi4[candidate] in omomi4_neo: #ある元の構造が生き残ってるかチェック\n",
    "            id_superperiodic = False\n",
    "            \n",
    "            for permutation in range(1, len(trans_tikans)):#恒等操作以外の並進操作について回す\n",
    "                d = dict()\n",
    "                sta = \"\"\n",
    "                for k in range(len(trans_tikans[0])):\n",
    "                    d[trans_tikans[permutation][k]] = omomi4[candidate][k]\n",
    "                for r in range(len(trans_tikans[0])):\n",
    "                    sta += d[r]    # 置換によって生成した配列\n",
    "                if int(sta) == int(omomi4[candidate]):# 作った配列と元の配列が一致、すなわちsuper_periodicやったら\n",
    "                    print(omomi4[candidate])\n",
    "                    id_superperiodic = True\n",
    "                else:#操作によって元とは別の配列になったかどうか\n",
    "                    if sta in omomi4_neo:#まだ省いていない構造やったら\n",
    "                        omomi4_neo.remove(sta)\n",
    "                        \n",
    "            if not id_superperiodic:\n",
    "                lis.add(omomi4[candidate])\n",
    "                    \n",
    "    lis = list(lis)\n",
    "    return lis\n",
    "                    \n",
    "                    \n",
    "                    \n",
    "                    "
   ]
  },
  {
   "cell_type": "code",
   "execution_count": 119,
   "metadata": {},
   "outputs": [],
   "source": [
    "ru2 = ['00010010','01000100']"
   ]
  },
  {
   "cell_type": "code",
   "execution_count": 124,
   "metadata": {},
   "outputs": [],
   "source": [
    "asa = list(asa)"
   ]
  },
  {
   "cell_type": "code",
   "execution_count": 125,
   "metadata": {},
   "outputs": [
    {
     "name": "stdout",
     "output_type": "stream",
     "text": [
      "00010001\n"
     ]
    }
   ],
   "source": [
    "ru2 = superperiodic_unique(set_of_transtikans, asa)"
   ]
  },
  {
   "cell_type": "code",
   "execution_count": 126,
   "metadata": {},
   "outputs": [
    {
     "data": {
      "text/plain": [
       "['00010010', '00000011', '00000101']"
      ]
     },
     "execution_count": 126,
     "metadata": {},
     "output_type": "execute_result"
    }
   ],
   "source": [
    "ru2"
   ]
  },
  {
   "cell_type": "code",
   "execution_count": 68,
   "metadata": {},
   "outputs": [
    {
     "name": "stdout",
     "output_type": "stream",
     "text": [
      "0\n"
     ]
    }
   ],
   "source": [
    "a = True\n",
    "if not a:\n",
    "    print(1)\n",
    "else:\n",
    "    print(0)"
   ]
  },
  {
   "cell_type": "code",
   "execution_count": 99,
   "metadata": {},
   "outputs": [],
   "source": [
    "def effect_permutation(permutation, str_array):\n",
    "    d = dict()\n",
    "    sta = \"\"\n",
    "    for k in range(len(permutation)):\n",
    "        d[permutation[k]] = str_array[k]\n",
    "    for r in range(len(permutation)):\n",
    "        sta += d[r]    # 置換によって生成した配列\n",
    "    return sta"
   ]
  },
  {
   "cell_type": "code",
   "execution_count": 103,
   "metadata": {},
   "outputs": [],
   "source": [
    "mori = effect_permutation(set_of_transtikans[1], ru2[0])"
   ]
  },
  {
   "cell_type": "code",
   "execution_count": 104,
   "metadata": {},
   "outputs": [
    {
     "data": {
      "text/plain": [
       "'00100001'"
      ]
     },
     "execution_count": 104,
     "metadata": {},
     "output_type": "execute_result"
    }
   ],
   "source": [
    "mori"
   ]
  },
  {
   "cell_type": "code",
   "execution_count": 106,
   "metadata": {},
   "outputs": [
    {
     "name": "stdout",
     "output_type": "stream",
     "text": [
      "not_sp\n"
     ]
    }
   ],
   "source": [
    "if int(mori) == int(ru2[1]):# 操作によって元とは別の配列になったかどうか\n",
    "    print(\"sp\")\n",
    "else:\n",
    "    print(\"not_sp\")"
   ]
  },
  {
   "cell_type": "code",
   "execution_count": 93,
   "metadata": {},
   "outputs": [],
   "source": [
    "a = int(mori)"
   ]
  },
  {
   "cell_type": "code",
   "execution_count": 94,
   "metadata": {},
   "outputs": [],
   "source": [
    "b = int(ru2[1])"
   ]
  },
  {
   "cell_type": "code",
   "execution_count": 95,
   "metadata": {},
   "outputs": [
    {
     "name": "stdout",
     "output_type": "stream",
     "text": [
      "0\n"
     ]
    }
   ],
   "source": [
    "if a == b:\n",
    "    print(0)"
   ]
  },
  {
   "cell_type": "code",
   "execution_count": 109,
   "metadata": {},
   "outputs": [
    {
     "name": "stdout",
     "output_type": "stream",
     "text": [
      "4\n"
     ]
    }
   ],
   "source": [
    "if not 3 == 4:\n",
    "    print(4)"
   ]
  },
  {
   "cell_type": "code",
   "execution_count": null,
   "metadata": {},
   "outputs": [],
   "source": []
  }
 ],
 "metadata": {
  "kernelspec": {
   "display_name": "Python 3",
   "language": "python",
   "name": "python3"
  },
  "language_info": {
   "codemirror_mode": {
    "name": "ipython",
    "version": 3
   },
   "file_extension": ".py",
   "mimetype": "text/x-python",
   "name": "python",
   "nbconvert_exporter": "python",
   "pygments_lexer": "ipython3",
   "version": "3.5.6"
  }
 },
 "nbformat": 4,
 "nbformat_minor": 4
}
