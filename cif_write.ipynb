{
 "cells": [
  {
   "cell_type": "code",
   "execution_count": 1,
   "metadata": {},
   "outputs": [],
   "source": [
    "from asa_dsenum import generate_HNF, generate_superlattice, permutation\n",
    "import numpy as np\n",
    "import spglib\n",
    "from copy import deepcopy\n",
    "import time\n",
    "rutile = ([(4, 0, 0),(0, 4, 0),(0, 0, 3)],\n",
    "\n",
    "          [(0, 0, 0),(0.5, 0.5, 0.5),(0.3, 0.3, 0.0),(0.7, 0.7, 0.0),(0.2, 0.8, 0.5),(0.8, 0.2, 0.5)],\n",
    "\n",
    "          [14, 14, 8, 8, 8, 8])\n",
    "o_sublattice = ([(4, 0, 0),(0, 4, 0),(0, 0, 3)],\n",
    "\n",
    "                [(0.3, 0.3, 0.0),(0.7, 0.7, 0.0),(0.2, 0.8, 0.5),(0.8, 0.2, 0.5)],\n",
    "\n",
    "                [8, 8, 8, 8])\n",
    "parent_sym = spglib.get_symmetry(rutile)\n",
    "HNF_list = generate_HNF.generate_all_superlattices(3)\n",
    "reduced_HNF = generate_HNF.reduce_HNF_list_by_parent_lattice_symmetry(HNF_list, parent_sym[\"rotations\"])"
   ]
  },
  {
   "cell_type": "code",
   "execution_count": 2,
   "metadata": {},
   "outputs": [],
   "source": [
    "def unique(parent_sym_jun, omomi4):\n",
    "    \"\"\"\n",
    "    得られた究極の対称操作の辞書に基づいて、配列をユニークしていく\n",
    "\n",
    "    parameters\n",
    "\n",
    "    parent_sym_jun\n",
    "\n",
    "    omomi4 は各空孔数ごとのcandidate集合\n",
    "\n",
    "    retruns\n",
    "\n",
    "    \"\"\"\n",
    "    omomi4_neo = deepcopy(omomi4)#copy wo sakusei\n",
    "    lis = set()\n",
    "\n",
    "    for i in range(len(omomi4)):#through all candidate\n",
    "        if omomi4[i] in omomi4_neo:#kouho ga mada 生き残ってるかチェック\n",
    "            \n",
    "            for j in range(1, len(parent_sym_jun)):#置換操作について回す　\n",
    "                d = dict()\n",
    "                sta = \"\"\n",
    "                for k in range(len(parent_sym_jun[0])):\n",
    "                    d[parent_sym_jun[j][k]] = omomi4[i][k]#str辞書の作成\n",
    "                for r  in range(len(parent_sym_jun[0])):#staの作成 sta is made from tikan[j]\n",
    "                    sta += d[r]\n",
    "                if int(sta) is not int(omomi4[i]):\n",
    "                    if sta in omomi4_neo:\n",
    "                        omomi4_neo.remove(sta)\n",
    "                        lis.add(omomi4[i])\n",
    "    lis = list(lis)\n",
    "    return lis"
   ]
  },
  {
   "cell_type": "code",
   "execution_count": 3,
   "metadata": {},
   "outputs": [],
   "source": [
    "def superperiodic_unique(trans_tikans, omomi4):\n",
    "    omomi4_neo = deepcopy(omomi4)\n",
    "    lis = set()\n",
    "    \n",
    "    for candidate in range(len(omomi4)):\n",
    "        if omomi4[candidate] in omomi4_neo: #ある元の構造が生き残ってるかチェック\n",
    "            id_superperiodic = False\n",
    "            \n",
    "            for permutation in range(1, len(trans_tikans)):#恒等操作以外の並進操作について回す\n",
    "                d = dict()\n",
    "                sta = \"\"\n",
    "                for k in range(len(trans_tikans[0])):\n",
    "                    d[trans_tikans[permutation][k]] = omomi4[candidate][k]\n",
    "                for r in range(len(trans_tikans[0])):\n",
    "                    sta += d[r]    # 置換によって生成した配列\n",
    "                if int(sta) == int(omomi4[candidate]):# 作った配列と元の配列が一致、すなわちsuper_periodicやったら\n",
    "                    id_superperiodic = True\n",
    "                else:#操作によって元とは別の配列になったかどうか\n",
    "                    if sta in omomi4_neo:#まだ省いていない構造やったら\n",
    "                        omomi4_neo.remove(sta)\n",
    "                        \n",
    "            if not id_superperiodic:\n",
    "                lis.add(omomi4[candidate])\n",
    "                    \n",
    "    lis = list(lis)\n",
    "    return lis\n",
    "                    \n",
    "                    \n",
    "                    \n",
    "                    "
   ]
  },
  {
   "cell_type": "code",
   "execution_count": 4,
   "metadata": {},
   "outputs": [
    {
     "name": "stdout",
     "output_type": "stream",
     "text": [
      "0 22\n",
      "1 27\n",
      "2 22\n",
      "3 36\n",
      "4 25\n",
      "132 かかった時間は 0.144212007522583 秒\n"
     ]
    }
   ],
   "source": [
    "# 処理前の時刻\n",
    "t1 = time.time() \n",
    "\n",
    "index = 2\n",
    "number = 0\n",
    "for hoge in range(0, 5):\n",
    "    ds_list = list()\n",
    "\n",
    "    HNF_list = generate_HNF.generate_all_superlattices(index)\n",
    "    reduced_HNF = generate_HNF.reduce_HNF_list_by_parent_lattice_symmetry(HNF_list, parent_sym[\"rotations\"])\n",
    "\n",
    "    parent_lattice =  generate_superlattice.get_superlattice(rutile, reduced_HNF[hoge], index)\n",
    "    o_sublattice = generate_superlattice.get_o_superlattice(rutile, reduced_HNF[hoge], index)\n",
    "    set_of_translations = permutation.gene_trans(reduced_HNF[hoge])\n",
    "    dic_zahyou = dict()\n",
    "    for i in range(len(o_sublattice[1])):\n",
    "        dic_zahyou[i] = o_sublattice[1][i]\n",
    "    set_of_transtikans = permutation.get_trans_perms(dic_zahyou, set_of_translations)\n",
    "\n",
    "    goalen = permutation.shin_get_permutation(o_sublattice, parent_sym, reduced_HNF[hoge])\n",
    "    for fuga in range(1,4*index):\n",
    "        omomi4 = permutation.make_candidate(o_sublattice,fuga) \n",
    "        asa = unique(goalen, omomi4)\n",
    "        ru = superperiodic_unique(set_of_transtikans, asa)\n",
    "        ds_list.extend(ru)\n",
    "    print(hoge, len(ds_list))\n",
    "    number += len(ds_list)\n",
    "\n",
    "# 処理後の時刻\n",
    "t2 = time.time()\n",
    "\n",
    "# 経過時間を表示\n",
    "elapsed_time = t2-t1\n",
    "print(number, \"かかった時間は\", elapsed_time,\"秒\")"
   ]
  },
  {
   "cell_type": "code",
   "execution_count": 5,
   "metadata": {},
   "outputs": [
    {
     "data": {
      "text/plain": [
       "25"
      ]
     },
     "execution_count": 5,
     "metadata": {},
     "output_type": "execute_result"
    }
   ],
   "source": [
    "len(ds_list)"
   ]
  },
  {
   "cell_type": "code",
   "execution_count": 6,
   "metadata": {},
   "outputs": [],
   "source": [
    "import os\n",
    "\n",
    "\n",
    "from pymatgen.io.cif import CifWriter\n",
    "from pymatgen.io.cif import CifParser\n",
    "from pymatgen.core import Specie, DummySpecie\n",
    "from pymatgen.core import Lattice, Structure\n",
    "\n",
    "\n",
    "def write_cif(filename, struct, refine_cell=False, resize_volume=False):\n",
    "\n",
    "    cw = CifWriter(struct)\n",
    "\n",
    "    cw.write_file(filename)"
   ]
  },
  {
   "cell_type": "code",
   "execution_count": 7,
   "metadata": {},
   "outputs": [
    {
     "ename": "AttributeError",
     "evalue": "'tuple' object has no attribute 'lattice'",
     "output_type": "error",
     "traceback": [
      "\u001b[0;31m---------------------------------------------------------------------------\u001b[0m",
      "\u001b[0;31mAttributeError\u001b[0m                            Traceback (most recent call last)",
      "\u001b[0;32m<ipython-input-7-51eac84be1ce>\u001b[0m in \u001b[0;36m<module>\u001b[0;34m\u001b[0m\n\u001b[1;32m      5\u001b[0m \u001b[0;32mfrom\u001b[0m \u001b[0mpymatgen\u001b[0m\u001b[0;34m.\u001b[0m\u001b[0mcore\u001b[0m\u001b[0;34m.\u001b[0m\u001b[0mperiodic_table\u001b[0m \u001b[0;32mimport\u001b[0m \u001b[0mDummySpecie\u001b[0m\u001b[0;34m\u001b[0m\u001b[0;34m\u001b[0m\u001b[0m\n\u001b[1;32m      6\u001b[0m \u001b[0;32mfrom\u001b[0m \u001b[0mpymatgen\u001b[0m\u001b[0;34m.\u001b[0m\u001b[0mio\u001b[0m\u001b[0;34m.\u001b[0m\u001b[0mcif\u001b[0m \u001b[0;32mimport\u001b[0m \u001b[0mCifWriter\u001b[0m\u001b[0;34m\u001b[0m\u001b[0;34m\u001b[0m\u001b[0m\n\u001b[0;32m----> 7\u001b[0;31m \u001b[0msga\u001b[0m \u001b[0;34m=\u001b[0m \u001b[0mSpacegroupAnalyzer\u001b[0m\u001b[0;34m(\u001b[0m\u001b[0mo_sublattice\u001b[0m\u001b[0;34m,\u001b[0m \u001b[0msymprec\u001b[0m\u001b[0;34m=\u001b[0m\u001b[0;36m1e-6\u001b[0m\u001b[0;34m,\u001b[0m \u001b[0mangle_tolerance\u001b[0m\u001b[0;34m=\u001b[0m\u001b[0;36m1e-2\u001b[0m\u001b[0;34m)\u001b[0m\u001b[0;34m\u001b[0m\u001b[0;34m\u001b[0m\u001b[0m\n\u001b[0m\u001b[1;32m      8\u001b[0m \u001b[0mstruct\u001b[0m \u001b[0;34m=\u001b[0m \u001b[0msga\u001b[0m\u001b[0;34m.\u001b[0m\u001b[0mget_primitive_standard_structure\u001b[0m\u001b[0;34m(\u001b[0m\u001b[0;34m)\u001b[0m\u001b[0;34m\u001b[0m\u001b[0;34m\u001b[0m\u001b[0m\n\u001b[1;32m      9\u001b[0m \u001b[0mstruct\u001b[0m\u001b[0;34m\u001b[0m\u001b[0;34m\u001b[0m\u001b[0m\n",
      "\u001b[0;32m~/.pyenv/versions/miniconda3-4.3.30/envs/graph/lib/python3.7/site-packages/pymatgen/symmetry/analyzer.py\u001b[0m in \u001b[0;36m__init__\u001b[0;34m(self, structure, symprec, angle_tolerance)\u001b[0m\n\u001b[1;32m     67\u001b[0m         \u001b[0mself\u001b[0m\u001b[0;34m.\u001b[0m\u001b[0m_angle_tol\u001b[0m \u001b[0;34m=\u001b[0m \u001b[0mangle_tolerance\u001b[0m\u001b[0;34m\u001b[0m\u001b[0;34m\u001b[0m\u001b[0m\n\u001b[1;32m     68\u001b[0m         \u001b[0mself\u001b[0m\u001b[0;34m.\u001b[0m\u001b[0m_structure\u001b[0m \u001b[0;34m=\u001b[0m \u001b[0mstructure\u001b[0m\u001b[0;34m\u001b[0m\u001b[0;34m\u001b[0m\u001b[0m\n\u001b[0;32m---> 69\u001b[0;31m         \u001b[0mlatt\u001b[0m \u001b[0;34m=\u001b[0m \u001b[0mstructure\u001b[0m\u001b[0;34m.\u001b[0m\u001b[0mlattice\u001b[0m\u001b[0;34m.\u001b[0m\u001b[0mmatrix\u001b[0m\u001b[0;34m\u001b[0m\u001b[0;34m\u001b[0m\u001b[0m\n\u001b[0m\u001b[1;32m     70\u001b[0m         \u001b[0mpositions\u001b[0m \u001b[0;34m=\u001b[0m \u001b[0mstructure\u001b[0m\u001b[0;34m.\u001b[0m\u001b[0mfrac_coords\u001b[0m\u001b[0;34m\u001b[0m\u001b[0;34m\u001b[0m\u001b[0m\n\u001b[1;32m     71\u001b[0m         \u001b[0munique_species\u001b[0m \u001b[0;34m=\u001b[0m \u001b[0;34m[\u001b[0m\u001b[0;34m]\u001b[0m\u001b[0;34m\u001b[0m\u001b[0;34m\u001b[0m\u001b[0m\n",
      "\u001b[0;31mAttributeError\u001b[0m: 'tuple' object has no attribute 'lattice'"
     ]
    }
   ],
   "source": [
    "import numpy as np\n",
    "import pymatgen\n",
    "from pymatgen.symmetry.analyzer import SpacegroupAnalyzer\n",
    "from pymatgen.core import Lattice, Structure\n",
    "from pymatgen.core.periodic_table import DummySpecie\n",
    "from pymatgen.io.cif import CifWriter\n",
    "sga = SpacegroupAnalyzer(o_sublattice, symprec=1e-6, angle_tolerance=1e-2)\n",
    "struct = sga.get_primitive_standard_structure()\n",
    "struct"
   ]
  },
  {
   "cell_type": "code",
   "execution_count": 27,
   "metadata": {},
   "outputs": [],
   "source": [
    "struct = Structure(o_sublattice[0],o_sublattice[2], o_sublattice[1])\n",
    "struct.to(filename=\"tin.cif\")"
   ]
  },
  {
   "cell_type": "code",
   "execution_count": 28,
   "metadata": {},
   "outputs": [
    {
     "name": "stdout",
     "output_type": "stream",
     "text": [
      "1225_superperiodic.ipynb  cif_write.ipynb               jan16_time.ipynb\n",
      "3D_surfaceplot.ipynb      \u001b[0m\u001b[01;34mindex2_structs\u001b[0m/               tin.cif\n",
      "\u001b[01;34masa_dsenum\u001b[0m/               jan_15th_superperiodic.ipynb  Untitled.ipynb\n"
     ]
    }
   ],
   "source": [
    "ls"
   ]
  },
  {
   "cell_type": "code",
   "execution_count": 29,
   "metadata": {},
   "outputs": [],
   "source": [
    "def get_structure(filename):\n",
    "\n",
    "    cp = CifParser(filename)\n",
    "\n",
    "    structure = cp.get_structures(primitive=True)[0]\n",
    "\n",
    "    return structure"
   ]
  },
  {
   "cell_type": "code",
   "execution_count": 30,
   "metadata": {},
   "outputs": [],
   "source": [
    "rutile = get_structure('/home/asa/dsenum/dsenum/examples/TiO2_mp-2657_conventional_standard.cif')"
   ]
  },
  {
   "cell_type": "code",
   "execution_count": 31,
   "metadata": {},
   "outputs": [
    {
     "data": {
      "text/plain": [
       "Structure Summary\n",
       "Lattice\n",
       "    abc : 2.96920288 4.65327231 4.65327231\n",
       " angles : 90.0 90.0 90.0\n",
       " volume : 64.29198128323142\n",
       "      A : -0.0 -0.0 2.96920288\n",
       "      B : 4.65327231 -0.0 2.849307520001255e-16\n",
       "      C : 7.483032596824123e-16 4.65327231 2.849307520001255e-16\n",
       "PeriodicSite: Ti (0.0000, 0.0000, 0.0000) [0.0000, 0.0000, 0.0000]\n",
       "PeriodicSite: Ti (2.3266, 2.3266, 1.4846) [0.5000, 0.5000, 0.5000]\n",
       "PeriodicSite: O (0.9093, 3.7439, 1.4846) [0.5000, 0.1954, 0.8046]\n",
       "PeriodicSite: O (3.7439, 0.9093, 1.4846) [0.5000, 0.8046, 0.1954]\n",
       "PeriodicSite: O (3.2360, 3.2360, 0.0000) [0.0000, 0.6954, 0.6954]\n",
       "PeriodicSite: O (1.4173, 1.4173, 0.0000) [0.0000, 0.3046, 0.3046]"
      ]
     },
     "execution_count": 31,
     "metadata": {},
     "output_type": "execute_result"
    }
   ],
   "source": [
    "rutile"
   ]
  },
  {
   "cell_type": "code",
   "execution_count": 32,
   "metadata": {},
   "outputs": [
    {
     "data": {
      "text/plain": [
       "Structure Summary\n",
       "Lattice\n",
       "    abc : 5.656854249492381 8.0 3.0\n",
       " angles : 90.0 90.0 45.00000000000001\n",
       " volume : 96.0\n",
       "      A : 4.0 4.0 0.0\n",
       "      B : 0.0 8.0 0.0\n",
       "      C : 0.0 0.0 3.0\n",
       "PeriodicSite: O (1.2000, 1.2000, 0.0000) [0.3000, 0.0000, 0.0000]\n",
       "PeriodicSite: O (2.8000, 2.8000, 0.0000) [0.7000, 0.0000, 0.0000]\n",
       "PeriodicSite: O (0.8000, 3.2000, 1.5000) [0.2000, 0.3000, 0.5000]\n",
       "PeriodicSite: O (1.2000, 5.2000, 0.0000) [0.3000, 0.5000, 0.0000]\n",
       "PeriodicSite: O (2.8000, 6.8000, 0.0000) [0.7000, 0.5000, 0.0000]\n",
       "PeriodicSite: O (0.8000, 7.2000, 1.5000) [0.2000, 0.8000, 0.5000]\n",
       "PeriodicSite: O (3.2000, 4.8000, 1.5000) [0.8000, 0.2000, 0.5000]\n",
       "PeriodicSite: O (3.2000, 8.8000, 1.5000) [0.8000, 0.7000, 0.5000]"
      ]
     },
     "execution_count": 32,
     "metadata": {},
     "output_type": "execute_result"
    }
   ],
   "source": [
    "struct"
   ]
  },
  {
   "cell_type": "code",
   "execution_count": 33,
   "metadata": {},
   "outputs": [
    {
     "name": "stdout",
     "output_type": "stream",
     "text": [
      "mkdir: cannot create directory ‘index2_structs’: File exists\n"
     ]
    }
   ],
   "source": [
    "mkdir index2_structs"
   ]
  },
  {
   "cell_type": "code",
   "execution_count": 34,
   "metadata": {},
   "outputs": [
    {
     "name": "stdout",
     "output_type": "stream",
     "text": [
      "1225_superperiodic.ipynb  cif_write.ipynb               jan16_time.ipynb\n",
      "3D_surfaceplot.ipynb      \u001b[0m\u001b[01;34mindex2_structs\u001b[0m/               tin.cif\n",
      "\u001b[01;34masa_dsenum\u001b[0m/               jan_15th_superperiodic.ipynb  Untitled.ipynb\n"
     ]
    }
   ],
   "source": [
    "ls"
   ]
  },
  {
   "cell_type": "code",
   "execution_count": 8,
   "metadata": {},
   "outputs": [
    {
     "name": "stdout",
     "output_type": "stream",
     "text": [
      "0 22\n",
      "1 27\n",
      "2 22\n",
      "3 36\n",
      "4 25\n",
      "132 かかった時間は 0.109375 秒\n"
     ]
    }
   ],
   "source": [
    "# 処理前の時刻\n",
    "t1 = time.time() \n",
    "\n",
    "index = 2\n",
    "number = 0\n",
    "for hoge in range(0, 5):\n",
    "    ds_list = list()\n",
    "\n",
    "    HNF_list = generate_HNF.generate_all_superlattices(index)\n",
    "    reduced_HNF = generate_HNF.reduce_HNF_list_by_parent_lattice_symmetry(HNF_list, parent_sym[\"rotations\"])\n",
    "\n",
    "    parent_lattice =  generate_superlattice.get_superlattice(rutile, reduced_HNF[hoge], index)\n",
    "    o_sublattice = generate_superlattice.get_o_superlattice(rutile, reduced_HNF[hoge], index)\n",
    "    set_of_translations = permutation.gene_trans(reduced_HNF[hoge])\n",
    "    dic_zahyou = dict()\n",
    "    for i in range(len(o_sublattice[1])):\n",
    "        dic_zahyou[i] = o_sublattice[1][i]\n",
    "    set_of_transtikans = permutation.get_trans_perms(dic_zahyou, set_of_translations)\n",
    "\n",
    "    goalen = permutation.shin_get_permutation(o_sublattice, parent_sym, reduced_HNF[hoge])\n",
    "    for fuga in range(1,4*index):\n",
    "        omomi4 = permutation.make_candidate(o_sublattice,fuga) \n",
    "        asa = unique(goalen, omomi4)\n",
    "        ru = superperiodic_unique(set_of_transtikans, asa)\n",
    "        ds_list.extend(ru)\n",
    "    print(hoge, len(ds_list))\n",
    "    number += len(ds_list)\n",
    "\n",
    "# 処理後の時刻\n",
    "t2 = time.time()\n",
    "\n",
    "# 経過時間を表示\n",
    "elapsed_time = t2-t1\n",
    "print(number, \"かかった時間は\", elapsed_time,\"秒\")"
   ]
  },
  {
   "cell_type": "code",
   "execution_count": 9,
   "metadata": {},
   "outputs": [],
   "source": [
    "parent_sym = spglib.get_symmetry(rutile)\n",
    "HNF_list = generate_HNF.generate_all_superlattices(2)\n",
    "reduced_HNF = generate_HNF.reduce_HNF_list_by_parent_lattice_symmetry(HNF_list, parent_sym[\"rotations\"])"
   ]
  },
  {
   "cell_type": "code",
   "execution_count": 10,
   "metadata": {},
   "outputs": [],
   "source": [
    "mapping_color_species = [DummySpecie('X'), Specie('O'), Specie('Sn')]"
   ]
  },
  {
   "cell_type": "code",
   "execution_count": 11,
   "metadata": {},
   "outputs": [
    {
     "ename": "FileNotFoundError",
     "evalue": "[Errno 2] No such file or directory: '/home/asa/python/asa_dsenum/index2_structs/SnOx_index=2/SnOx_index=2_0.cif'",
     "output_type": "error",
     "traceback": [
      "\u001b[0;31m---------------------------------------------------------------------------\u001b[0m",
      "\u001b[0;31mFileNotFoundError\u001b[0m                         Traceback (most recent call last)",
      "\u001b[0;32m<ipython-input-11-5d9cb6032408>\u001b[0m in \u001b[0;36m<module>\u001b[0;34m\u001b[0m\n\u001b[1;32m      8\u001b[0m     \u001b[0mname\u001b[0m \u001b[0;34m=\u001b[0m \u001b[0;34m'SnOx_index={}'\u001b[0m\u001b[0;34m.\u001b[0m\u001b[0mformat\u001b[0m\u001b[0;34m(\u001b[0m\u001b[0mindex\u001b[0m\u001b[0;34m)\u001b[0m\u001b[0;34m\u001b[0m\u001b[0;34m\u001b[0m\u001b[0m\n\u001b[1;32m      9\u001b[0m     \u001b[0mfilename\u001b[0m \u001b[0;34m=\u001b[0m \u001b[0mos\u001b[0m\u001b[0;34m.\u001b[0m\u001b[0mpath\u001b[0m\u001b[0;34m.\u001b[0m\u001b[0mjoin\u001b[0m\u001b[0;34m(\u001b[0m\u001b[0;34m'/home/asa/python/asa_dsenum/index2_structs/'\u001b[0m\u001b[0;34m,\u001b[0m \u001b[0mname\u001b[0m\u001b[0;34m,\u001b[0m \u001b[0;34m\"SnOx_index={}_{}.cif\"\u001b[0m\u001b[0;34m.\u001b[0m\u001b[0mformat\u001b[0m\u001b[0;34m(\u001b[0m\u001b[0mindex\u001b[0m\u001b[0;34m,\u001b[0m \u001b[0mi\u001b[0m\u001b[0;34m)\u001b[0m\u001b[0;34m)\u001b[0m\u001b[0;34m\u001b[0m\u001b[0;34m\u001b[0m\u001b[0m\n\u001b[0;32m---> 10\u001b[0;31m     \u001b[0mwrite_cif\u001b[0m\u001b[0;34m(\u001b[0m\u001b[0mfilename\u001b[0m\u001b[0;34m,\u001b[0m \u001b[0mpstruct\u001b[0m\u001b[0;34m,\u001b[0m \u001b[0mrefine_cell\u001b[0m\u001b[0;34m=\u001b[0m\u001b[0;32mTrue\u001b[0m\u001b[0;34m)\u001b[0m\u001b[0;34m\u001b[0m\u001b[0;34m\u001b[0m\u001b[0m\n\u001b[0m",
      "\u001b[0;32m<ipython-input-6-191acbd1ea16>\u001b[0m in \u001b[0;36mwrite_cif\u001b[0;34m(filename, struct, refine_cell, resize_volume)\u001b[0m\n\u001b[1;32m     12\u001b[0m     \u001b[0mcw\u001b[0m \u001b[0;34m=\u001b[0m \u001b[0mCifWriter\u001b[0m\u001b[0;34m(\u001b[0m\u001b[0mstruct\u001b[0m\u001b[0;34m)\u001b[0m\u001b[0;34m\u001b[0m\u001b[0;34m\u001b[0m\u001b[0m\n\u001b[1;32m     13\u001b[0m \u001b[0;34m\u001b[0m\u001b[0m\n\u001b[0;32m---> 14\u001b[0;31m     \u001b[0mcw\u001b[0m\u001b[0;34m.\u001b[0m\u001b[0mwrite_file\u001b[0m\u001b[0;34m(\u001b[0m\u001b[0mfilename\u001b[0m\u001b[0;34m)\u001b[0m\u001b[0;34m\u001b[0m\u001b[0;34m\u001b[0m\u001b[0m\n\u001b[0m",
      "\u001b[0;32m~/.pyenv/versions/miniconda3-4.3.30/envs/graph/lib/python3.7/site-packages/pymatgen/io/cif.py\u001b[0m in \u001b[0;36mwrite_file\u001b[0;34m(self, filename)\u001b[0m\n\u001b[1;32m   1368\u001b[0m         \u001b[0mWrite\u001b[0m \u001b[0mthe\u001b[0m \u001b[0mcif\u001b[0m \u001b[0mfile\u001b[0m\u001b[0;34m.\u001b[0m\u001b[0;34m\u001b[0m\u001b[0;34m\u001b[0m\u001b[0m\n\u001b[1;32m   1369\u001b[0m         \"\"\"\n\u001b[0;32m-> 1370\u001b[0;31m         \u001b[0;32mwith\u001b[0m \u001b[0mzopen\u001b[0m\u001b[0;34m(\u001b[0m\u001b[0mfilename\u001b[0m\u001b[0;34m,\u001b[0m \u001b[0;34m\"wt\"\u001b[0m\u001b[0;34m)\u001b[0m \u001b[0;32mas\u001b[0m \u001b[0mf\u001b[0m\u001b[0;34m:\u001b[0m\u001b[0;34m\u001b[0m\u001b[0;34m\u001b[0m\u001b[0m\n\u001b[0m\u001b[1;32m   1371\u001b[0m             \u001b[0mf\u001b[0m\u001b[0;34m.\u001b[0m\u001b[0mwrite\u001b[0m\u001b[0;34m(\u001b[0m\u001b[0mself\u001b[0m\u001b[0;34m.\u001b[0m\u001b[0m__str__\u001b[0m\u001b[0;34m(\u001b[0m\u001b[0;34m)\u001b[0m\u001b[0;34m)\u001b[0m\u001b[0;34m\u001b[0m\u001b[0;34m\u001b[0m\u001b[0m\n\u001b[1;32m   1372\u001b[0m \u001b[0;34m\u001b[0m\u001b[0m\n",
      "\u001b[0;32m~/.pyenv/versions/miniconda3-4.3.30/envs/graph/lib/python3.7/site-packages/monty/io.py\u001b[0m in \u001b[0;36mzopen\u001b[0;34m(filename, *args, **kwargs)\u001b[0m\n\u001b[1;32m     70\u001b[0m         \u001b[0;32mreturn\u001b[0m \u001b[0mgzip\u001b[0m\u001b[0;34m.\u001b[0m\u001b[0mopen\u001b[0m\u001b[0;34m(\u001b[0m\u001b[0mfilename\u001b[0m\u001b[0;34m,\u001b[0m \u001b[0;34m*\u001b[0m\u001b[0margs\u001b[0m\u001b[0;34m,\u001b[0m \u001b[0;34m**\u001b[0m\u001b[0mkwargs\u001b[0m\u001b[0;34m)\u001b[0m\u001b[0;34m\u001b[0m\u001b[0;34m\u001b[0m\u001b[0m\n\u001b[1;32m     71\u001b[0m     \u001b[0;32melse\u001b[0m\u001b[0;34m:\u001b[0m\u001b[0;34m\u001b[0m\u001b[0;34m\u001b[0m\u001b[0m\n\u001b[0;32m---> 72\u001b[0;31m         \u001b[0;32mreturn\u001b[0m \u001b[0mio\u001b[0m\u001b[0;34m.\u001b[0m\u001b[0mopen\u001b[0m\u001b[0;34m(\u001b[0m\u001b[0mfilename\u001b[0m\u001b[0;34m,\u001b[0m \u001b[0;34m*\u001b[0m\u001b[0margs\u001b[0m\u001b[0;34m,\u001b[0m \u001b[0;34m**\u001b[0m\u001b[0mkwargs\u001b[0m\u001b[0;34m)\u001b[0m\u001b[0;34m\u001b[0m\u001b[0;34m\u001b[0m\u001b[0m\n\u001b[0m\u001b[1;32m     73\u001b[0m \u001b[0;34m\u001b[0m\u001b[0m\n\u001b[1;32m     74\u001b[0m \u001b[0;34m\u001b[0m\u001b[0m\n",
      "\u001b[0;31mFileNotFoundError\u001b[0m: [Errno 2] No such file or directory: '/home/asa/python/asa_dsenum/index2_structs/SnOx_index=2/SnOx_index=2_0.cif'"
     ]
    }
   ],
   "source": [
    "parent_lattice =  generate_superlattice.get_superlattice(rutile, reduced_HNF[hoge], index)\n",
    "for i in range(len(ds_list)):\n",
    "    pstruct = Structure(parent_lattice[0], parent_lattice[2], parent_lattice[1])\n",
    "    for j in range(8):\n",
    "        if int(ds_list[i][j]) == 0:\n",
    "            pstruct[2*index+j] = mapping_color_species[0]\n",
    "    pstruct.remove_species([mapping_color_species[0], ])\n",
    "    name = 'SnOx_index={}'.format(index)\n",
    "    filename = os.path.join('/home/asa/python/asa_dsenum/index2_structs/', name, \"SnOx_index={}_{}.cif\".format(index, i))\n",
    "    write_cif(filename, pstruct, refine_cell=True)"
   ]
  },
  {
   "cell_type": "code",
   "execution_count": null,
   "metadata": {},
   "outputs": [],
   "source": []
  }
 ],
 "metadata": {
  "kernelspec": {
   "display_name": "Python 3",
   "language": "python",
   "name": "python3"
  },
  "language_info": {
   "codemirror_mode": {
    "name": "ipython",
    "version": 3
   },
   "file_extension": ".py",
   "mimetype": "text/x-python",
   "name": "python",
   "nbconvert_exporter": "python",
   "pygments_lexer": "ipython3",
   "version": "3.7.3"
  }
 },
 "nbformat": 4,
 "nbformat_minor": 2
}
