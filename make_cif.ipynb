{
 "cells": [
  {
   "cell_type": "code",
   "execution_count": 1,
   "metadata": {},
   "outputs": [],
   "source": [
    "from asa_dsenum import generate_HNF, generate_superlattice, permutation\n",
    "import numpy as np\n",
    "import spglib\n",
    "from copy import deepcopy\n",
    "import time\n",
    "from tqdm import tqdm\n",
    "\n",
    "from asa_dsenum.generate_HNF import generate_all_superlattices, reduce_HNF_list_by_parent_lattice_symmetry\n",
    "\n",
    "\n",
    "from asa_dsenum.generate_superlattice import get_superlattice\n",
    "from asa_dsenum.permutation import gene_trans, get_trans_perms, shin_get_permutation, make_candidate, unique, superperiodic_unique"
   ]
  },
  {
   "cell_type": "code",
   "execution_count": 2,
   "metadata": {},
   "outputs": [],
   "source": [
    "import os\n",
    "\n",
    "\n",
    "from pymatgen.io.cif import CifWriter\n",
    "from pymatgen.io.cif import CifParser\n",
    "from pymatgen.core import Specie, DummySpecie\n",
    "from pymatgen.core import Lattice, Structure\n",
    "\n",
    "\n",
    "def write_cif(filename, struct, refine_cell=False, resize_volume=False):\n",
    "\n",
    "    cw = CifWriter(struct)\n",
    "\n",
    "    cw.write_file(filename)"
   ]
  },
  {
   "cell_type": "code",
   "execution_count": 3,
   "metadata": {},
   "outputs": [],
   "source": [
    "base_structure = ([(0, 1, 1),(1, 0, 1),(1, 1, 0)],[(0, 0, 0)],[8])\n",
    "index = 2"
   ]
  },
  {
   "cell_type": "code",
   "execution_count": 6,
   "metadata": {},
   "outputs": [],
   "source": [
    "struct = Structure(base_structure[0],base_structure[2],base_structure[1])\n",
    "struct.to(filename=\"tin.cif\")"
   ]
  },
  {
   "cell_type": "markdown",
   "metadata": {},
   "source": [
    "DummySpecie を用いて原子配列を表そう"
   ]
  },
  {
   "cell_type": "code",
   "execution_count": 11,
   "metadata": {},
   "outputs": [],
   "source": [
    "mapping_color_species = [DummySpecie('X'), Specie('O')]\n",
    "base_structure_symmetry = spglib.get_symmetry(base_structure) "
   ]
  },
  {
   "cell_type": "code",
   "execution_count": 14,
   "metadata": {},
   "outputs": [],
   "source": [
    "index = 4\n",
    "HNF_list = generate_all_superlattices(4)\n",
    "list_reduced_HNF = reduce_HNF_list_by_parent_lattice_symmetry(HNF_list, base_structure_symmetry[\"rotations\"])\n",
    "reduced_HNF = list_reduced_HNF[1]\n",
    "parent_lattice = get_superlattice(base_structure, reduced_HNF, index)"
   ]
  },
  {
   "cell_type": "code",
   "execution_count": 15,
   "metadata": {},
   "outputs": [
    {
     "data": {
      "text/plain": [
       "([[0, 1, 1], [2, 1, 1], [4, 4, 0]],\n",
       " [[0.0, 0.0, 0.0], [0.0, 0.0, 0.25], [0.0, 0.0, 0.5], [0.0, 0.0, 0.75]],\n",
       " [8, 8, 8, 8])"
      ]
     },
     "execution_count": 15,
     "metadata": {},
     "output_type": "execute_result"
    }
   ],
   "source": [
    "parent_lattice"
   ]
  },
  {
   "cell_type": "code",
   "execution_count": 25,
   "metadata": {},
   "outputs": [],
   "source": [
    "a = \"0111\"\n",
    "def mate(a):\n",
    "    pstruct = Structure(parent_lattice[0], parent_lattice[2], parent_lattice[1])\n",
    "    for j in range(index):\n",
    "        if int(a[j]) == 0:\n",
    "            pstruct[j] = mapping_color_species[0]\n",
    "    pstruct.remove_species([mapping_color_species[0], ])\n",
    "    return pstruct"
   ]
  },
  {
   "cell_type": "code",
   "execution_count": 26,
   "metadata": {},
   "outputs": [
    {
     "data": {
      "text/plain": [
       "Structure Summary\n",
       "Lattice\n",
       "    abc : 1.4142135623730951 2.449489742783178 5.656854249492381\n",
       " angles : 29.999999999999993 60.00000000000001 54.735610317245346\n",
       " volume : 8.0\n",
       "      A : 0.0 1.0 1.0\n",
       "      B : 2.0 1.0 1.0\n",
       "      C : 4.0 4.0 0.0\n",
       "PeriodicSite: O (1.0000, 1.0000, 0.0000) [0.0000, 0.0000, 0.2500]\n",
       "PeriodicSite: O (2.0000, 2.0000, 0.0000) [0.0000, 0.0000, 0.5000]\n",
       "PeriodicSite: O (3.0000, 3.0000, 0.0000) [0.0000, 0.0000, 0.7500]"
      ]
     },
     "execution_count": 26,
     "metadata": {},
     "output_type": "execute_result"
    }
   ],
   "source": [
    "unko = mate(a)\n",
    "unko"
   ]
  },
  {
   "cell_type": "code",
   "execution_count": 31,
   "metadata": {},
   "outputs": [],
   "source": [
    "def transfrom_to_cif(mate, parent_lattice):\n",
    "    mapping_color_species = [DummySpecie('X'), Specie('O')]\n",
    "    \n",
    "    pstruct = Structure(parent_lattice[0], parent_lattice[2], parent_lattice[1])\n",
    "    for i in range(len(parent_lattice[2])):\n",
    "        if int(mate[i]) == 0:\n",
    "            pstruct[i] = mapping_color_species[0]\n",
    "    \n",
    "    return pstruct"
   ]
  },
  {
   "cell_type": "code",
   "execution_count": 32,
   "metadata": {},
   "outputs": [],
   "source": [
    "unko = transfrom_to_cif(a, parent_lattice)"
   ]
  },
  {
   "cell_type": "code",
   "execution_count": 33,
   "metadata": {},
   "outputs": [
    {
     "data": {
      "text/plain": [
       "Structure Summary\n",
       "Lattice\n",
       "    abc : 1.4142135623730951 2.449489742783178 5.656854249492381\n",
       " angles : 29.999999999999993 60.00000000000001 54.735610317245346\n",
       " volume : 8.0\n",
       "      A : 0.0 1.0 1.0\n",
       "      B : 2.0 1.0 1.0\n",
       "      C : 4.0 4.0 0.0\n",
       "PeriodicSite: X0+ (0.0000, 0.0000, 0.0000) [0.0000, 0.0000, 0.0000]\n",
       "PeriodicSite: O (1.0000, 1.0000, 0.0000) [0.0000, 0.0000, 0.2500]\n",
       "PeriodicSite: O (2.0000, 2.0000, 0.0000) [0.0000, 0.0000, 0.5000]\n",
       "PeriodicSite: O (3.0000, 3.0000, 0.0000) [0.0000, 0.0000, 0.7500]"
      ]
     },
     "execution_count": 33,
     "metadata": {},
     "output_type": "execute_result"
    }
   ],
   "source": [
    "unko"
   ]
  },
  {
   "cell_type": "code",
   "execution_count": 34,
   "metadata": {},
   "outputs": [],
   "source": [
    "from asa_dsenum import generate_HNF, generate_superlattice, permutation\n",
    "import numpy as np\n",
    "import spglib\n",
    "from copy import deepcopy\n",
    "import time\n",
    "from tqdm import tqdm\n",
    "\n",
    "from asa_dsenum.generate_HNF import generate_all_superlattices, reduce_HNF_list_by_parent_lattice_symmetry\n",
    "\n",
    "\n",
    "from asa_dsenum.generate_superlattice import get_superlattice\n",
    "from asa_dsenum.permutation import gene_trans, get_trans_perms, shin_get_permutation, make_candidate, unique, superperiodic_unique"
   ]
  },
  {
   "cell_type": "code",
   "execution_count": 35,
   "metadata": {},
   "outputs": [],
   "source": [
    "base_structure = ([(0, 1, 1),(1, 0, 1),(1, 1, 0)],[(0, 0, 0)],[8])\n",
    "index = 2"
   ]
  },
  {
   "cell_type": "code",
   "execution_count": 75,
   "metadata": {},
   "outputs": [],
   "source": [
    "def ds_enumration(base_structure, index):\n",
    "    \"\"\"[summary]\n",
    "\n",
    "\tArguments:\n",
    "\t\tbase_structure {[list]} -- [vectors, coords, species]\n",
    "\t\tindex {[int]} -- [structure_size]\n",
    "\t\"\"\"\n",
    "    start = time.time()\n",
    "    \n",
    "    base_structure_symmetry = spglib.get_symmetry(base_structure)\n",
    "    HNF_list = generate_all_superlattices(index)\n",
    "    list_reduced_HNF = reduce_HNF_list_by_parent_lattice_symmetry(HNF_list, base_structure_symmetry[\"rotations\"])\n",
    "    \n",
    "    number = 0\n",
    "    \n",
    "    for reduced_HNF in tqdm(list_reduced_HNF):\n",
    "        ds_list = list()\n",
    "        \n",
    "        parent_lattice = get_superlattice(base_structure, reduced_HNF, index)\n",
    "        set_of_translations = gene_trans(reduced_HNF)\n",
    "        dic_zahyou = dict()\n",
    "        \n",
    "        for i in range(len(parent_lattice[1])):\n",
    "            dic_zahyou[i] = parent_lattice[1][i]\n",
    "        \n",
    "        set_of_transtikans = get_trans_perms(dic_zahyou, set_of_translations)\n",
    "        goalen = shin_get_permutation(parent_lattice, base_structure_symmetry, reduced_HNF)\n",
    "        \n",
    "        index2 = index // 2\n",
    "        for fuga in range(1, index2+1):\n",
    "            omomi4 = make_candidate(parent_lattice, fuga)\n",
    "            asa = unique(goalen, omomi4)\n",
    "            ru = superperiodic_unique(set_of_transtikans, asa)\n",
    "            ds_list.extend(ru)\n",
    "        \n",
    "        print(len(ds_list))\n",
    "        number += len(ds_list)\n",
    "    return  number\n"
   ]
  },
  {
   "cell_type": "code",
   "execution_count": 78,
   "metadata": {},
   "outputs": [
    {
     "name": "stderr",
     "output_type": "stream",
     "text": [
      " 28%|██▊       | 5/18 [00:00<00:00, 15.57it/s]"
     ]
    },
    {
     "name": "stdout",
     "output_type": "stream",
     "text": [
      "42\n",
      "42\n",
      "42\n",
      "0\n",
      "42\n"
     ]
    },
    {
     "name": "stderr",
     "output_type": "stream",
     "text": [
      " 61%|██████    | 11/18 [00:00<00:00, 19.95it/s]"
     ]
    },
    {
     "name": "stdout",
     "output_type": "stream",
     "text": [
      "42\n",
      "0\n",
      "42\n",
      "42\n",
      "42\n",
      "0\n"
     ]
    },
    {
     "name": "stderr",
     "output_type": "stream",
     "text": [
      " 94%|█████████▍| 17/18 [00:00<00:00, 23.41it/s]"
     ]
    },
    {
     "name": "stdout",
     "output_type": "stream",
     "text": [
      "42\n",
      "42\n",
      "0\n",
      "42\n",
      "0\n",
      "42\n"
     ]
    },
    {
     "name": "stderr",
     "output_type": "stream",
     "text": [
      "100%|██████████| 18/18 [00:00<00:00, 24.11it/s]"
     ]
    },
    {
     "name": "stdout",
     "output_type": "stream",
     "text": [
      "42\n"
     ]
    },
    {
     "name": "stderr",
     "output_type": "stream",
     "text": [
      "\n"
     ]
    }
   ],
   "source": [
    "a = ds_enumration(base_structure, 10)"
   ]
  },
  {
   "cell_type": "code",
   "execution_count": 79,
   "metadata": {},
   "outputs": [
    {
     "data": {
      "text/plain": [
       "546"
      ]
     },
     "execution_count": 79,
     "metadata": {},
     "output_type": "execute_result"
    }
   ],
   "source": [
    "a"
   ]
  },
  {
   "cell_type": "code",
   "execution_count": 73,
   "metadata": {},
   "outputs": [
    {
     "data": {
      "text/plain": [
       "1"
      ]
     },
     "execution_count": 73,
     "metadata": {},
     "output_type": "execute_result"
    }
   ],
   "source": [
    "b = 2\n",
    "\n",
    "c = b // 2\n",
    "c"
   ]
  },
  {
   "cell_type": "code",
   "execution_count": 74,
   "metadata": {},
   "outputs": [],
   "source": [
    "for i in range(1, 1):\n",
    "    print(i)"
   ]
  },
  {
   "cell_type": "code",
   "execution_count": null,
   "metadata": {},
   "outputs": [],
   "source": []
  }
 ],
 "metadata": {
  "kernelspec": {
   "display_name": "Python 3",
   "language": "python",
   "name": "python3"
  },
  "language_info": {
   "codemirror_mode": {
    "name": "ipython",
    "version": 3
   },
   "file_extension": ".py",
   "mimetype": "text/x-python",
   "name": "python",
   "nbconvert_exporter": "python",
   "pygments_lexer": "ipython3",
   "version": "3.7.3"
  }
 },
 "nbformat": 4,
 "nbformat_minor": 2
}
