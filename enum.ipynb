{
 "cells": [
  {
   "cell_type": "code",
   "execution_count": 3,
   "metadata": {},
   "outputs": [],
   "source": [
    "from asa_dsenum import generate_HNF, generate_superlattice, permutation\n",
    "import numpy as np\n",
    "import spglib\n",
    "from copy import deepcopy\n",
    "import time\n",
    "from tqdm import tqdm\n",
    "\n",
    "from asa_dsenum.generate_HNF import generate_all_superlattices, reduce_HNF_list_by_parent_lattice_symmetry\n",
    "\n",
    "\n",
    "from asa_dsenum.generate_superlattice import get_superlattice\n",
    "from asa_dsenum.permutation import gene_trans, get_trans_perms, shin_get_permutation, make_candidate, unique, superperiodic_unique"
   ]
  },
  {
   "cell_type": "code",
   "execution_count": 4,
   "metadata": {},
   "outputs": [],
   "source": [
    "base_structure = ([(0, 1, 1),(1, 0, 1),(1, 1, 0)],[(0, 0, 0)],[8])\n",
    "index = 2"
   ]
  },
  {
   "cell_type": "code",
   "execution_count": 5,
   "metadata": {},
   "outputs": [],
   "source": [
    "def ds_enumration(base_structure, index):\n",
    "    \"\"\"[summary]\n",
    "\n",
    "\tArguments:\n",
    "\t\tbase_structure {[list]} -- [vectors, coords, species]\n",
    "\t\tindex {[int]} -- [structure_size]\n",
    "\t\"\"\"\n",
    "    start = time.time()\n",
    "    \n",
    "    base_structure_symmetry = spglib.get_symmetry(base_structure)\n",
    "    HNF_list = generate_all_superlattices(index)\n",
    "    list_reduced_HNF = reduce_HNF_list_by_parent_lattice_symmetry(HNF_list, base_structure_symmetry[\"rotations\"])\n",
    "    \n",
    "    number = 0\n",
    "    for reduced_HNF in tqdm(list_reduced_HNF):\n",
    "        ds_list = list()\n",
    "        \n",
    "        parent_lattice = get_superlattice(base_structure, reduced_HNF, index)\n",
    "        set_of_translations = gene_trans(reduced_HNF)\n",
    "        dic_zahyou = dict()\n",
    "        \n",
    "        for i in range(len(parent_lattice[1])):\n",
    "            dic_zahyou[i] = parent_lattice[1][i]\n",
    "        \n",
    "        set_of_transtikans = get_trans_perms(dic_zahyou, set_of_translations)\n",
    "        goalen = shin_get_permutation(parent_lattice, base_structure_symmetry, reduced_HNF)\n",
    "        \n",
    "        for fuga in range(1, index):\n",
    "            omomi4 = make_candidate(parent_lattice, fuga)\n",
    "            asa = unique(goalen, omomi4)\n",
    "            ru = superperiodic_unique(set_of_transtikans, asa)\n",
    "            ds_list.extend(ru)\n",
    "            \n",
    "        number += len(ds_list)\n",
    "    return  ds_list\n"
   ]
  },
  {
   "cell_type": "code",
   "execution_count": 6,
   "metadata": {},
   "outputs": [
    {
     "name": "stderr",
     "output_type": "stream",
     "text": [
      "  0%|          | 0/3 [00:00<?, ?it/s]\n"
     ]
    },
    {
     "ename": "KeyError",
     "evalue": "1",
     "output_type": "error",
     "traceback": [
      "\u001b[0;31m---------------------------------------------------------------------------\u001b[0m",
      "\u001b[0;31mKeyError\u001b[0m                                  Traceback (most recent call last)",
      "\u001b[0;32m<ipython-input-6-8305c8cf9524>\u001b[0m in \u001b[0;36m<module>\u001b[0;34m\u001b[0m\n\u001b[0;32m----> 1\u001b[0;31m \u001b[0ma\u001b[0m \u001b[0;34m=\u001b[0m \u001b[0mds_enumration\u001b[0m\u001b[0;34m(\u001b[0m\u001b[0mbase_structure\u001b[0m\u001b[0;34m,\u001b[0m \u001b[0;36m3\u001b[0m\u001b[0;34m)\u001b[0m\u001b[0;34m\u001b[0m\u001b[0;34m\u001b[0m\u001b[0m\n\u001b[0m",
      "\u001b[0;32m<ipython-input-5-9775928c0d98>\u001b[0m in \u001b[0;36mds_enumration\u001b[0;34m(base_structure, index)\u001b[0m\n\u001b[1;32m     24\u001b[0m \u001b[0;34m\u001b[0m\u001b[0m\n\u001b[1;32m     25\u001b[0m         \u001b[0mset_of_transtikans\u001b[0m \u001b[0;34m=\u001b[0m \u001b[0mget_trans_perms\u001b[0m\u001b[0;34m(\u001b[0m\u001b[0mdic_zahyou\u001b[0m\u001b[0;34m,\u001b[0m \u001b[0mset_of_translations\u001b[0m\u001b[0;34m)\u001b[0m\u001b[0;34m\u001b[0m\u001b[0;34m\u001b[0m\u001b[0m\n\u001b[0;32m---> 26\u001b[0;31m         \u001b[0mgoalen\u001b[0m \u001b[0;34m=\u001b[0m \u001b[0mshin_get_permutation\u001b[0m\u001b[0;34m(\u001b[0m\u001b[0mparent_lattice\u001b[0m\u001b[0;34m,\u001b[0m \u001b[0mbase_structure_symmetry\u001b[0m\u001b[0;34m,\u001b[0m \u001b[0mreduced_HNF\u001b[0m\u001b[0;34m)\u001b[0m\u001b[0;34m\u001b[0m\u001b[0;34m\u001b[0m\u001b[0m\n\u001b[0m\u001b[1;32m     27\u001b[0m \u001b[0;34m\u001b[0m\u001b[0m\n\u001b[1;32m     28\u001b[0m         \u001b[0;32mfor\u001b[0m \u001b[0mfuga\u001b[0m \u001b[0;32min\u001b[0m \u001b[0mrange\u001b[0m\u001b[0;34m(\u001b[0m\u001b[0;36m1\u001b[0m\u001b[0;34m,\u001b[0m \u001b[0mindex\u001b[0m\u001b[0;34m)\u001b[0m\u001b[0;34m:\u001b[0m\u001b[0;34m\u001b[0m\u001b[0;34m\u001b[0m\u001b[0m\n",
      "\u001b[0;32m~/python/jun_dsenum/asa_dsenum/permutation.py\u001b[0m in \u001b[0;36mshin_get_permutation\u001b[0;34m(o_super_sublattice, parent_sym, HNF)\u001b[0m\n\u001b[1;32m     97\u001b[0m     \u001b[0mrot_permutations\u001b[0m \u001b[0;34m=\u001b[0m \u001b[0mgenerate_super_perm\u001b[0m\u001b[0;34m(\u001b[0m\u001b[0mdic_zahyou\u001b[0m\u001b[0;34m,\u001b[0m \u001b[0msuper_point_group\u001b[0m\u001b[0;34m)\u001b[0m\u001b[0;34m\u001b[0m\u001b[0;34m\u001b[0m\u001b[0m\n\u001b[1;32m     98\u001b[0m \u001b[0;34m\u001b[0m\u001b[0m\n\u001b[0;32m---> 99\u001b[0;31m     \u001b[0mgoal_perms\u001b[0m \u001b[0;34m=\u001b[0m \u001b[0mgenerate_abs_permuatation\u001b[0m\u001b[0;34m(\u001b[0m\u001b[0mrot_permutations\u001b[0m\u001b[0;34m,\u001b[0m \u001b[0mtrans_tikans\u001b[0m\u001b[0;34m)\u001b[0m\u001b[0;34m\u001b[0m\u001b[0;34m\u001b[0m\u001b[0m\n\u001b[0m\u001b[1;32m    100\u001b[0m \u001b[0;34m\u001b[0m\u001b[0m\n\u001b[1;32m    101\u001b[0m     \u001b[0;32mreturn\u001b[0m \u001b[0mgoal_perms\u001b[0m\u001b[0;34m\u001b[0m\u001b[0;34m\u001b[0m\u001b[0m\n",
      "\u001b[0;32m~/python/jun_dsenum/asa_dsenum/permutation.py\u001b[0m in \u001b[0;36mgenerate_abs_permuatation\u001b[0;34m(parent_lattice_jun, trans_perms)\u001b[0m\n\u001b[1;32m    218\u001b[0m     \u001b[0;32mfor\u001b[0m \u001b[0mi\u001b[0m \u001b[0;32min\u001b[0m \u001b[0mparent_lattice_jun\u001b[0m\u001b[0;34m:\u001b[0m\u001b[0;34m\u001b[0m\u001b[0;34m\u001b[0m\u001b[0m\n\u001b[1;32m    219\u001b[0m         \u001b[0;32mfor\u001b[0m \u001b[0mj\u001b[0m \u001b[0;32min\u001b[0m \u001b[0mtrans_perms\u001b[0m\u001b[0;34m:\u001b[0m\u001b[0;34m\u001b[0m\u001b[0;34m\u001b[0m\u001b[0m\n\u001b[0;32m--> 220\u001b[0;31m             \u001b[0mtikan\u001b[0m \u001b[0;34m=\u001b[0m \u001b[0mkumiawase\u001b[0m\u001b[0;34m(\u001b[0m\u001b[0mparent_lattice_jun\u001b[0m\u001b[0;34m[\u001b[0m\u001b[0mi\u001b[0m\u001b[0;34m]\u001b[0m\u001b[0;34m,\u001b[0m \u001b[0mtrans_perms\u001b[0m\u001b[0;34m[\u001b[0m\u001b[0mj\u001b[0m\u001b[0;34m]\u001b[0m\u001b[0;34m)\u001b[0m\u001b[0;34m\u001b[0m\u001b[0;34m\u001b[0m\u001b[0m\n\u001b[0m\u001b[1;32m    221\u001b[0m             \u001b[0mtikan_list\u001b[0m\u001b[0;34m.\u001b[0m\u001b[0mappend\u001b[0m\u001b[0;34m(\u001b[0m\u001b[0mtikan\u001b[0m\u001b[0;34m)\u001b[0m\u001b[0;34m\u001b[0m\u001b[0;34m\u001b[0m\u001b[0m\n\u001b[1;32m    222\u001b[0m     \u001b[0;32mreturn\u001b[0m \u001b[0mtikan_list\u001b[0m\u001b[0;34m\u001b[0m\u001b[0;34m\u001b[0m\u001b[0m\n",
      "\u001b[0;32m~/python/jun_dsenum/asa_dsenum/permutation.py\u001b[0m in \u001b[0;36mkumiawase\u001b[0;34m(rot_tikan, trans_tikan)\u001b[0m\n\u001b[1;32m    176\u001b[0m     \u001b[0mhosii\u001b[0m \u001b[0;34m=\u001b[0m \u001b[0mdict\u001b[0m\u001b[0;34m(\u001b[0m\u001b[0;34m)\u001b[0m\u001b[0;34m\u001b[0m\u001b[0;34m\u001b[0m\u001b[0m\n\u001b[1;32m    177\u001b[0m     \u001b[0;32mfor\u001b[0m \u001b[0mhayashi\u001b[0m \u001b[0;32min\u001b[0m \u001b[0mrange\u001b[0m\u001b[0;34m(\u001b[0m\u001b[0mlen\u001b[0m\u001b[0;34m(\u001b[0m\u001b[0mrot_tikan\u001b[0m\u001b[0;34m)\u001b[0m\u001b[0;34m)\u001b[0m\u001b[0;34m:\u001b[0m\u001b[0;34m\u001b[0m\u001b[0;34m\u001b[0m\u001b[0m\n\u001b[0;32m--> 178\u001b[0;31m         \u001b[0mhosii\u001b[0m\u001b[0;34m[\u001b[0m\u001b[0mhayashi\u001b[0m\u001b[0;34m]\u001b[0m \u001b[0;34m=\u001b[0m \u001b[0mtrans_tikan\u001b[0m\u001b[0;34m[\u001b[0m\u001b[0mrot_tikan\u001b[0m\u001b[0;34m[\u001b[0m\u001b[0mhayashi\u001b[0m\u001b[0;34m]\u001b[0m\u001b[0;34m]\u001b[0m\u001b[0;34m\u001b[0m\u001b[0;34m\u001b[0m\u001b[0m\n\u001b[0m\u001b[1;32m    179\u001b[0m     \u001b[0;32mreturn\u001b[0m \u001b[0mhosii\u001b[0m\u001b[0;34m\u001b[0m\u001b[0;34m\u001b[0m\u001b[0m\n\u001b[1;32m    180\u001b[0m \u001b[0;34m\u001b[0m\u001b[0m\n",
      "\u001b[0;31mKeyError\u001b[0m: 1"
     ]
    }
   ],
   "source": [
    "a = ds_enumration(base_structure, 3)"
   ]
  },
  {
   "cell_type": "code",
   "execution_count": 121,
   "metadata": {},
   "outputs": [
    {
     "name": "stderr",
     "output_type": "stream",
     "text": [
      "\n",
      "\n",
      "  0%|          | 0/100 [00:00<?, ?it/s]\u001b[A\u001b[A\n",
      "\n",
      "  1%|          | 1/100 [00:01<01:39,  1.00s/it]\u001b[A\u001b[A\n",
      "\n",
      "  2%|▏         | 2/100 [00:02<01:38,  1.00s/it]\u001b[A\u001b[A\n",
      "\n",
      "  3%|▎         | 3/100 [00:03<01:37,  1.00s/it]\u001b[A\u001b[A\n",
      "\n",
      "  4%|▍         | 4/100 [00:04<01:36,  1.00s/it]\u001b[A\u001b[A\n",
      "\n",
      "  5%|▌         | 5/100 [00:05<01:35,  1.00s/it]\u001b[A\u001b[A\n",
      "\n",
      "  6%|▌         | 6/100 [00:06<01:34,  1.00s/it]\u001b[A\u001b[A\n",
      "\n",
      "  7%|▋         | 7/100 [00:07<01:33,  1.00s/it]\u001b[A\u001b[A\n",
      "\n",
      "  8%|▊         | 8/100 [00:08<01:32,  1.00s/it]\u001b[A\u001b[A\n",
      "\n",
      "  9%|▉         | 9/100 [00:09<01:31,  1.00s/it]\u001b[A\u001b[A"
     ]
    },
    {
     "ename": "KeyboardInterrupt",
     "evalue": "",
     "output_type": "error",
     "traceback": [
      "\u001b[0;31m---------------------------------------------------------------------------\u001b[0m",
      "\u001b[0;31mKeyboardInterrupt\u001b[0m                         Traceback (most recent call last)",
      "\u001b[0;32m<ipython-input-121-41f439e56d4f>\u001b[0m in \u001b[0;36m<module>\u001b[0;34m\u001b[0m\n\u001b[1;32m      1\u001b[0m \u001b[0;32mfor\u001b[0m \u001b[0mi\u001b[0m \u001b[0;32min\u001b[0m \u001b[0mtqdm\u001b[0m\u001b[0;34m(\u001b[0m\u001b[0mrange\u001b[0m\u001b[0;34m(\u001b[0m\u001b[0;36m100\u001b[0m\u001b[0;34m)\u001b[0m\u001b[0;34m)\u001b[0m\u001b[0;34m:\u001b[0m\u001b[0;34m\u001b[0m\u001b[0;34m\u001b[0m\u001b[0m\n\u001b[0;32m----> 2\u001b[0;31m     \u001b[0mtime\u001b[0m\u001b[0;34m.\u001b[0m\u001b[0msleep\u001b[0m\u001b[0;34m(\u001b[0m\u001b[0;36m1\u001b[0m\u001b[0;34m)\u001b[0m\u001b[0;34m\u001b[0m\u001b[0;34m\u001b[0m\u001b[0m\n\u001b[0m",
      "\u001b[0;31mKeyboardInterrupt\u001b[0m: "
     ]
    }
   ],
   "source": [
    "for i in tqdm(range(100)):\n",
    "    time.sleep(1)"
   ]
  },
  {
   "cell_type": "code",
   "execution_count": null,
   "metadata": {},
   "outputs": [
    {
     "name": "stderr",
     "output_type": "stream",
     "text": [
      "\n",
      "\n",
      "\n",
      "  0%|          | 0/100 [00:00<?, ?it/s]\u001b[A\u001b[A\u001b[A"
     ]
    },
    {
     "name": "stdout",
     "output_type": "stream",
     "text": [
      "処理中\n"
     ]
    },
    {
     "name": "stderr",
     "output_type": "stream",
     "text": [
      "\n",
      "\n",
      "\n",
      "  1%|          | 1/100 [00:01<01:39,  1.00s/it]\u001b[A\u001b[A\u001b[A\n",
      "\n",
      "\n",
      "  2%|▏         | 2/100 [00:02<01:38,  1.00s/it]\u001b[A\u001b[A\u001b[A\n",
      "\n",
      "\n",
      "  3%|▎         | 3/100 [00:03<01:37,  1.00s/it]\u001b[A\u001b[A\u001b[A\n",
      "\n",
      "\n",
      "  4%|▍         | 4/100 [00:04<01:36,  1.00s/it]\u001b[A\u001b[A\u001b[A"
     ]
    }
   ],
   "source": [
    "from tqdm import tqdm\n",
    "import time\n",
    "\n",
    "print('処理中')\n",
    "with tqdm(total=100) as bar:\n",
    "    for i in range(100):\n",
    "        time.sleep(1)\n",
    "        bar.update(1)"
   ]
  },
  {
   "cell_type": "code",
   "execution_count": null,
   "metadata": {},
   "outputs": [],
   "source": []
  }
 ],
 "metadata": {
  "kernelspec": {
   "display_name": "Python 3",
   "language": "python",
   "name": "python3"
  },
  "language_info": {
   "codemirror_mode": {
    "name": "ipython",
    "version": 3
   },
   "file_extension": ".py",
   "mimetype": "text/x-python",
   "name": "python",
   "nbconvert_exporter": "python",
   "pygments_lexer": "ipython3",
   "version": "3.7.3"
  }
 },
 "nbformat": 4,
 "nbformat_minor": 2
}
