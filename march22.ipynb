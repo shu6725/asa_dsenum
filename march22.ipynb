{
 "cells": [
  {
   "cell_type": "code",
   "execution_count": 2,
   "metadata": {},
   "outputs": [],
   "source": [
    "from asa_dsenum import generate_HNF, generate_superlattice, permutation\n",
    "import numpy as np\n",
    "import spglib\n",
    "from copy import deepcopy\n",
    "import time\n",
    "\n",
    "face_centerd_cubic = ([(0, 1, 1),(1, 0, 1),(1, 1, 0)],\n",
    "\n",
    "                      [(0, 0, 0)],\n",
    "\n",
    "                      [8])\n",
    "parent_sym = spglib.get_symmetry(face_centerd_cubic)\n",
    "HNF_list = generate_HNF.generate_all_superlattices(2)\n",
    "reduced_HNF = generate_HNF.reduce_HNF_list_by_parent_lattice_symmetry(HNF_list, parent_sym[\"rotations\"])"
   ]
  },
  {
   "cell_type": "code",
   "execution_count": 3,
   "metadata": {},
   "outputs": [],
   "source": [
    "FCC_2 = generate_superlattice.get_superlattice(face_centerd_cubic, reduced_HNF[0], 2)"
   ]
  },
  {
   "cell_type": "code",
   "execution_count": 4,
   "metadata": {},
   "outputs": [
    {
     "data": {
      "text/plain": [
       "([[0, 1, 1], [1, 0, 1], [2, 2, 0]], [[0.0, 0.0, 0.0], [0.0, 0.0, 0.5]], [8, 8])"
      ]
     },
     "execution_count": 4,
     "metadata": {},
     "output_type": "execute_result"
    }
   ],
   "source": [
    "FCC_2"
   ]
  },
  {
   "cell_type": "code",
   "execution_count": 14,
   "metadata": {},
   "outputs": [
    {
     "name": "stdout",
     "output_type": "stream",
     "text": [
      "0 1\n",
      "1 1\n",
      "2 かかった時間は 0.01039886474609375 秒\n"
     ]
    }
   ],
   "source": [
    "# 処理前の時刻\n",
    "t1 = time.time() \n",
    "\n",
    "index = 2\n",
    "number = 0\n",
    "for hoge in range(0, len(reduced_HNF)):\n",
    "    ds_list = list()\n",
    "\n",
    "    HNF_list = generate_HNF.generate_all_superlattices(index)\n",
    "    reduced_HNF = generate_HNF.reduce_HNF_list_by_parent_lattice_symmetry(HNF_list, parent_sym[\"rotations\"])\n",
    "\n",
    "    parent_lattice =  generate_superlattice.get_superlattice(face_centerd_cubic, reduced_HNF[hoge], index)\n",
    "    set_of_translations = permutation.gene_trans(reduced_HNF[hoge])\n",
    "    dic_zahyou = dict()\n",
    "    for i in range(len(parent_lattice[1])):\n",
    "        dic_zahyou[i] = parent_lattice[1][i]\n",
    "    set_of_transtikans = permutation.get_trans_perms(dic_zahyou, set_of_translations)\n",
    "\n",
    "    goalen = permutation.shin_get_permutation(parent_lattice, parent_sym, reduced_HNF[hoge])\n",
    "    for fuga in range(1,4*index):\n",
    "        omomi4 = permutation.make_candidate(parent_lattice,fuga) \n",
    "        asa = permutation.unique(goalen, omomi4)\n",
    "        ru = permutation.superperiodic_unique(set_of_transtikans, asa)\n",
    "        ds_list.extend(ru)\n",
    "    print(hoge, len(ds_list))\n",
    "    number += len(ds_list)\n",
    "\n",
    "# 処理後の時刻\n",
    "t2 = time.time()\n",
    "\n",
    "# 経過時間を表示\n",
    "elapsed_time = t2-t1\n",
    "print(number, \"かかった時間は\", elapsed_time,\"秒\")"
   ]
  },
  {
   "cell_type": "code",
   "execution_count": null,
   "metadata": {},
   "outputs": [],
   "source": []
  }
 ],
 "metadata": {
  "kernelspec": {
   "display_name": "Python 3",
   "language": "python",
   "name": "python3"
  },
  "language_info": {
   "codemirror_mode": {
    "name": "ipython",
    "version": 3
   },
   "file_extension": ".py",
   "mimetype": "text/x-python",
   "name": "python",
   "nbconvert_exporter": "python",
   "pygments_lexer": "ipython3",
   "version": "3.7.3"
  }
 },
 "nbformat": 4,
 "nbformat_minor": 2
}
