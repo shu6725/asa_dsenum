{
 "cells": [
  {
   "cell_type": "code",
   "execution_count": 9,
   "metadata": {},
   "outputs": [],
   "source": [
    "from asa_dsenum import generate_HNF, generate_superlattice, permutation\n",
    "import numpy as np\n",
    "import spglib\n",
    "from copy import deepcopy\n",
    "\n",
    "rutile = ([(4, 0, 0),(0, 4, 0),(0, 0, 3)],\n",
    "\n",
    "          [(0, 0, 0),(0.5, 0.5, 0.5),(0.3, 0.3, 0.0),(0.7, 0.7, 0.0),(0.2, 0.8, 0.5),(0.8, 0.2, 0.5)],\n",
    "\n",
    "          [14, 14, 8, 8, 8, 8])\n",
    "o_sublattice = ([(4, 0, 0),(0, 4, 0),(0, 0, 3)],\n",
    "\n",
    "                [(0.3, 0.3, 0.0),(0.7, 0.7, 0.0),(0.2, 0.8, 0.5),(0.8, 0.2, 0.5)],\n",
    "\n",
    "                [8, 8, 8, 8])\n",
    "parent_sym = spglib.get_symmetry(rutile)\n",
    "HNF_list = generate_HNF.generate_all_superlattices(3)\n",
    "reduced_HNF = generate_HNF.reduce_HNF_list_by_parent_lattice_symmetry(HNF_list, parent_sym[\"rotations\"])"
   ]
  },
  {
   "cell_type": "code",
   "execution_count": 3,
   "metadata": {},
   "outputs": [
    {
     "data": {
      "text/plain": [
       "[array([[1, 0, 0],\n",
       "        [0, 1, 0],\n",
       "        [0, 0, 3]]), array([[1, 0, 0],\n",
       "        [0, 1, 0],\n",
       "        [0, 1, 3]]), array([[1, 0, 0],\n",
       "        [0, 1, 0],\n",
       "        [1, 1, 3]]), array([[1, 0, 0],\n",
       "        [0, 3, 0],\n",
       "        [0, 0, 1]]), array([[1, 0, 0],\n",
       "        [1, 3, 0],\n",
       "        [0, 0, 1]])]"
      ]
     },
     "execution_count": 3,
     "metadata": {},
     "output_type": "execute_result"
    }
   ],
   "source": [
    "reduced_HNF"
   ]
  },
  {
   "cell_type": "code",
   "execution_count": 8,
   "metadata": {},
   "outputs": [
    {
     "name": "stdout",
     "output_type": "stream",
     "text": [
      "0\n",
      "156\n",
      "156\n",
      "1\n",
      "380\n",
      "536\n",
      "2\n",
      "434\n",
      "970\n",
      "3\n",
      "380\n",
      "1350\n",
      "4\n",
      "434\n",
      "1784\n"
     ]
    }
   ],
   "source": [
    "kousaka = 0\n",
    "for taka in range(len(reduced_HNF)):\n",
    "    print(taka)\n",
    "    unko = permutation.sucell_unique(rutile, reduced_HNF[taka], 3, parent_sym)\n",
    "    print(len(unko))\n",
    "    kousaka += len(unko)\n",
    "    print(kousaka)\n"
   ]
  },
  {
   "cell_type": "code",
   "execution_count": null,
   "metadata": {},
   "outputs": [],
   "source": []
  }
 ],
 "metadata": {
  "kernelspec": {
   "display_name": "Python 3",
   "language": "python",
   "name": "python3"
  },
  "language_info": {
   "codemirror_mode": {
    "name": "ipython",
    "version": 3
   },
   "file_extension": ".py",
   "mimetype": "text/x-python",
   "name": "python",
   "nbconvert_exporter": "python",
   "pygments_lexer": "ipython3",
   "version": "3.5.6"
  }
 },
 "nbformat": 4,
 "nbformat_minor": 4
}
